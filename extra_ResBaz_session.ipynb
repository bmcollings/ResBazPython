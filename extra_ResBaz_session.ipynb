{
  "cells": [
    {
      "cell_type": "markdown",
      "metadata": {
        "id": "view-in-github",
        "colab_type": "text"
      },
      "source": [
        "<a href=\"https://colab.research.google.com/github/bmcollings/ResBazPython/blob/main/extra_ResBaz_session.ipynb\" target=\"_parent\"><img src=\"https://colab.research.google.com/assets/colab-badge.svg\" alt=\"Open In Colab\"/></a>"
      ]
    },
    {
      "cell_type": "markdown",
      "metadata": {
        "id": "n5iMvwh_hzyO"
      },
      "source": [
        "# Welcome to our session \"Introduction to Python\"! 🐍\n",
        "\n",
        "## Today's example\n",
        "- **import** some data from **spreadsheets**\n",
        "- **plot** data (bar charts, scatter plots)\n",
        "- perform some basic **statistical** analysis\n",
        "- try to make **predictions** using a simple Machine Learning model 🧐\n",
        "\n"
      ]
    },
    {
      "cell_type": "markdown",
      "metadata": {
        "id": "rLYlAPZnnLNd"
      },
      "source": [
        "<a target=\"_blank\" href=\"https://colab.research.google.com/github/UoA-eResearch/ResBaz24Python/blob/main/StartHere_ResBaz24Python.ipynb\">\n",
        "  <img src=\"https://colab.research.google.com/assets/colab-badge.svg\" alt=\"Open In Colab\"/>\n",
        "</a>"
      ]
    },
    {
      "cell_type": "markdown",
      "metadata": {
        "id": "rqGnLKHVhzyS"
      },
      "source": [
        "# Housekeeping\n",
        "\n",
        "- This is an interactive session; make the most of it; just listening is not enough! There won't be a recording. We are here to help you learn 🧠\n",
        "- Cameras on! 📸\n",
        "- If you have any questions, please ask them in the chat 💬\n",
        "- Please mute your microphone 🎤  \n",
        "- Be kind 😊\n",
        "  - all details of the Code of Conduct 🗞️  can be found [here](https://resbaz.auckland.ac.nz/about/)\n",
        "- This is a 4h session, we have 5 min breaks every hour and a 10 min break after 2h 🕒\n",
        "- You will be able to vote/have an influence on the content of this session 🗳️\n",
        "- This notebook and other resources will be shared with you later, always prioritise following-along over note-taking, etc. 📝\n"
      ]
    },
    {
      "cell_type": "markdown",
      "metadata": {
        "id": "khkjWP0lhzyT"
      },
      "source": [
        "# What you can expect\n",
        "<div>\n",
        "<img src=\"https://raw.githubusercontent.com/UoA-eResearch/ResBaz24Python/main/Assets/SessionExpectations.svg\" width=\"800\"/>\n",
        "</div>\n"
      ]
    },
    {
      "cell_type": "markdown",
      "metadata": {
        "id": "p3hOcvRLhzyU"
      },
      "source": [
        "# Defining goals for today's session (will be revisited at the end of the session)\n",
        "\n",
        "- we want you to...\n",
        "  - ... have fun! 🎉\n",
        "  - ... follow along with us and learn some Python 🐍 while working through a few examples\n",
        "    - learning by doing/ *\"live coding\"*\n",
        "    - we mostly follow [The Carpentries style of teaching](https://swcarpentry.github.io/swc-releases/2017.02/instructor-training/15-practices/)\n",
        "\n",
        "- we won't find the time to\n",
        "  - ... start with the basics of coding\n",
        "    - at the University of Auckland, we have these regular sessions:\n",
        "      - [Introduction to Python](https://research-hub.auckland.ac.nz/digital-research-skills/introduction-to-python) (8h)\n",
        "      - [Machine Learning (ML)](https://research-hub.auckland.ac.nz/digital-research-skills/machine-learning-workshop)\n",
        "    - hand-selected links to resoures will follow in the very end\n",
        "  - ... discuss different environments for Python\n",
        "    - we will use Google Colab ([as mentioned](https://resbaz.auckland.ac.nz/setup/) you need a Google account)\n",
        "    - there are use-cases where you won't use a Jupyter Notebook (like this one right here), you can write scripts and run them on the command-line\n",
        "    - you can use an Integrated Development Environment (IDE) like [Visual Studio Code](https://code.visualstudio.com/) or [PyCharm](https://www.jetbrains.com/pycharm/)\n",
        "\n"
      ]
    },
    {
      "cell_type": "markdown",
      "metadata": {
        "id": "Us89EIi_hzyU"
      },
      "source": [
        "# In 3 Statements: How is Python?\n",
        "1. **Awesome**, because it is **abstract** and **versatile**\n",
        "1. The **community** is **huge** (and **AI** is well trained on it): MAKE SURE IT IS OK TO USE THAT ON YOUR POTENTIALLY SENSITIVE DATA\n",
        "2. It is **still a programming** language; you need to learn the **syntax** and the **logic** behind it\n",
        "\n",
        "<div>\n",
        "<img src=\"https://github.com/UoA-eResearch/ResBaz24Python/blob/main/Assets/MemeCoding.JPG?raw=1\" width=\"500\"/>\n",
        "</div>"
      ]
    },
    {
      "cell_type": "markdown",
      "metadata": {
        "id": "8T5g2R98hzyV"
      },
      "source": [
        "## Intermezzo: What is a Jupyter Notebook? And or a Google Colab Notebook?\n",
        "\n",
        "- we oversimplify here\n",
        "- Jupyter Notebook\n",
        "  - you can **write** and **run** your **code**, see the **output**, and add **textual descriptions**\n",
        "  - you can **share** your work with others\n",
        "  - you can run it on your **local** machine or on a **server or Virtual Machine**\n",
        "- a web-based environment such as Google Colab or [JupyterHub](https://research-hub.auckland.ac.nz/research-software-and-computing/advanced-compute/nectar-jupyterhub)/[BinderHub](https://research-hub.auckland.ac.nz/research-software-and-computing/advanced-compute/nectar-binderhub), etc.\n",
        "- From a different perspective, cells that can contain\n",
        "  - **markdown** (like this one) which is a way of formatting text with some special characters\n",
        "  - **code**\n",
        "  - you have a **play** button ▶️ to run the code in a cell\n",
        "    - if you look closely, once that is done, you see a number in the brackets `[ ]` on the left side of the cell\n",
        "    - the **sequence matters**\n",
        "      - this is powerful but can also be a source of errors\n",
        "      - you can go back and change only some bits of your code and run it again\n",
        "      - you have to familiarise yourself with this kind of non-linear execution (especially if you are used to writing scripts)\n",
        "\n",
        " Now, gogogo! 🏃‍♂️"
      ]
    },
    {
      "cell_type": "markdown",
      "metadata": {
        "id": "kA_1W2NIhzyV"
      },
      "source": [
        "# Poll #1 Why do you attend this? 🤔"
      ]
    },
    {
      "cell_type": "markdown",
      "metadata": {
        "id": "KqFB8nKchzyW",
        "vscode": {
          "languageId": "plaintext"
        }
      },
      "source": [
        "# Bare minimum to get started\n",
        "\n",
        "## Variables and data types"
      ]
    },
    {
      "cell_type": "code",
      "execution_count": null,
      "metadata": {
        "id": "bAsiJoeehzyX",
        "outputId": "54053091-123c-45fe-c53e-ace168482699",
        "colab": {
          "base_uri": "https://localhost:8080/"
        }
      },
      "outputs": [
        {
          "output_type": "execute_result",
          "data": {
            "text/plain": [
              "23"
            ]
          },
          "metadata": {},
          "execution_count": 2
        }
      ],
      "source": [
        "# we can use python as a calculator\n",
        "3 + 5 * 4"
      ]
    },
    {
      "cell_type": "markdown",
      "source": [
        "To do useful things with data we need to assign it's value to a variable which we do using the `=` sign"
      ],
      "metadata": {
        "id": "qmwKJElRymP3"
      }
    },
    {
      "cell_type": "code",
      "execution_count": null,
      "metadata": {
        "id": "uNUDlTwahzya"
      },
      "outputs": [],
      "source": [
        "# assign a number to a variable called age\n",
        "age = 31"
      ]
    },
    {
      "cell_type": "markdown",
      "source": [
        "Python knows several data types. We'll start with three common ones:\n",
        "  - integers (whole numbers)\n",
        "  - floats (decimal numbers)\n",
        "  - strings (characters/letters etc.)\n",
        "\n",
        "  "
      ],
      "metadata": {
        "id": "3q8QrwLAzHSn"
      }
    },
    {
      "cell_type": "code",
      "source": [
        "# assign a float to a variable called accurate_age\n",
        "accurate_age = 31.5\n",
        "\n",
        "# assign a string to a variable called name\n",
        "name = \"Benedict\""
      ],
      "metadata": {
        "id": "OLYRKazKzfLq"
      },
      "execution_count": null,
      "outputs": []
    },
    {
      "cell_type": "markdown",
      "source": [
        "we can then use variables to perform calculations. We may have the length of a film or video in minutes and we want to calculate it's duration in hours."
      ],
      "metadata": {
        "id": "5lhahBsWz6HU"
      }
    },
    {
      "cell_type": "code",
      "source": [
        "# variable defining length of film in minutes\n",
        "film_mins = 185\n",
        "\n",
        "film_hours = film_mins / 60\n",
        "\n",
        "film_hours\n",
        "\n",
        "# we can add strings together to create new strings\n",
        "name_first = \"Ben\"\n",
        "\n",
        "name_last = \"Collings\"\n",
        "\n",
        "name_full = name_first + name_last"
      ],
      "metadata": {
        "id": "BFeuECEv0Lxv"
      },
      "execution_count": null,
      "outputs": []
    },
    {
      "cell_type": "markdown",
      "source": [
        "Do perform operations and do things with variable, Python has built-in functions. For example to display information, we use the print function"
      ],
      "metadata": {
        "id": "rtSIw0L_1rBZ"
      }
    },
    {
      "cell_type": "code",
      "source": [
        "# return the value of name_full\n",
        "print(name_full)"
      ],
      "metadata": {
        "id": "XsRLTK9A1QgT",
        "outputId": "e9eb341b-9010-4432-aadd-f63b0b4beba8",
        "colab": {
          "base_uri": "https://localhost:8080/"
        }
      },
      "execution_count": null,
      "outputs": [
        {
          "output_type": "stream",
          "name": "stdout",
          "text": [
            "BenCollings\n"
          ]
        }
      ]
    },
    {
      "cell_type": "markdown",
      "source": [
        "Using the function, referred to as calling the function, we follow its name with `()`. Sometimes you will include variables inside the function for it to use. In the case of `print()` we include the variable we wish to display inside `()`. We can also print multiple things at once using it just once with something called `f` strings."
      ],
      "metadata": {
        "id": "LWLFVt1_2l0v"
      }
    },
    {
      "cell_type": "code",
      "source": [
        "print(f\"{name_full} has an accurate age of {accurate_age}\")"
      ],
      "metadata": {
        "id": "V0SLuhz23cEy",
        "outputId": "95e5e2b0-13bd-4074-922d-68a16ddcb175",
        "colab": {
          "base_uri": "https://localhost:8080/"
        }
      },
      "execution_count": null,
      "outputs": [
        {
          "output_type": "stream",
          "name": "stdout",
          "text": [
            "BenCollings has an accurate age of 31.5\n"
          ]
        }
      ]
    },
    {
      "cell_type": "markdown",
      "source": [
        "We can also call a function inside another function. To check the data type of a variable we can call the `type()` function inside the `print()` function."
      ],
      "metadata": {
        "id": "BDD6rNBo5t8I"
      }
    },
    {
      "cell_type": "code",
      "source": [
        "# print data type of name_full\n",
        "print(type(name_full))\n",
        "\n",
        "# print data type of accurate_age\n",
        "print(type(accurate_age))"
      ],
      "metadata": {
        "id": "Ny40mURO6T3f",
        "outputId": "59645327-2e3b-45b2-c771-d138dfc76555",
        "colab": {
          "base_uri": "https://localhost:8080/"
        }
      },
      "execution_count": null,
      "outputs": [
        {
          "output_type": "stream",
          "name": "stdout",
          "text": [
            "<class 'str'>\n",
            "<class 'float'>\n"
          ]
        }
      ]
    },
    {
      "cell_type": "markdown",
      "source": [
        "We can also perform calculations inside the `print()` function."
      ],
      "metadata": {
        "id": "HdJf_uoC6jck"
      }
    },
    {
      "cell_type": "code",
      "source": [
        "print(f\"film in hours is {film_mins / 60}\")"
      ],
      "metadata": {
        "id": "OTnbtjn66rHn",
        "outputId": "01c97c26-e29d-452e-90f2-fbbae4441f67",
        "colab": {
          "base_uri": "https://localhost:8080/"
        }
      },
      "execution_count": null,
      "outputs": [
        {
          "output_type": "stream",
          "name": "stdout",
          "text": [
            "film in hours is 3.0833333333333335\n"
          ]
        }
      ]
    },
    {
      "cell_type": "markdown",
      "metadata": {
        "id": "ukbqf4cChzyb"
      },
      "source": [
        "Some useful functions are part of package of other Python scripts/code that we need to import into our script to use. (e.g. `math.sqrt()`\n",
        "\n",
        "### more detailed explanation:\n",
        "We just imported a package/library/an external component/something that someone else has built. One repository of such packages is the Python Package Index (PyPI) [pypi.org](https://pypi.org/)."
      ]
    },
    {
      "cell_type": "code",
      "execution_count": null,
      "metadata": {
        "id": "ahNPivfkhzyc",
        "outputId": "5747b516-837d-45f9-a38f-9ebfef0611f0",
        "colab": {
          "base_uri": "https://localhost:8080/"
        }
      },
      "outputs": [
        {
          "output_type": "execute_result",
          "data": {
            "text/plain": [
              "5.0"
            ]
          },
          "metadata": {},
          "execution_count": 18
        }
      ],
      "source": [
        "# import math to use sqrt\n",
        "import math\n",
        "\n",
        "square_of_25 = math.sqrt(25)"
      ]
    },
    {
      "cell_type": "code",
      "source": [],
      "metadata": {
        "id": "5OujETbD8bPv"
      },
      "execution_count": null,
      "outputs": []
    },
    {
      "cell_type": "markdown",
      "source": [
        "We can also assign muliple variables in one line by separating the variables and values with commas."
      ],
      "metadata": {
        "id": "f2vQ89Rv8BEm"
      }
    },
    {
      "cell_type": "code",
      "source": [
        "first_name, last_name = \"Ben\", \"Collings\"\n",
        "\n",
        "print(first_name, last_name)"
      ],
      "metadata": {
        "id": "trW31Dui8cCk",
        "outputId": "a60023c4-5bb0-4786-9bb9-41c8e94f4d7f",
        "colab": {
          "base_uri": "https://localhost:8080/"
        }
      },
      "execution_count": null,
      "outputs": [
        {
          "output_type": "stream",
          "name": "stdout",
          "text": [
            "Ben Collings\n"
          ]
        }
      ]
    },
    {
      "cell_type": "markdown",
      "metadata": {
        "id": "JTeEF8Eehzyc"
      },
      "source": [
        "# \"Over to you\"\n",
        "\n",
        "- for some examples, we have 'gamified' our learning experience and have created some neat way of you testing your knowledge\n",
        "- you can input your result\n",
        "- these will be uploaded to a server\n",
        "- we see the result\n",
        "- we share the results (later)\n",
        "- and: Yes! ~~All~~ Most of that was also done in Python, yes, Application Programming Interfaces (APIs) calls and all! 🤯"
      ]
    },
    {
      "cell_type": "markdown",
      "metadata": {
        "id": "GL2kRuXfiBOh"
      },
      "source": [
        "# Exercices Part 1"
      ]
    },
    {
      "cell_type": "code",
      "execution_count": null,
      "metadata": {
        "id": "34kWvqQIiAby",
        "outputId": "5fa10d8a-3608-4758-ffe7-3a164f706768",
        "colab": {
          "base_uri": "https://localhost:8080/"
        }
      },
      "outputs": [
        {
          "output_type": "execute_result",
          "data": {
            "text/plain": [
              "3471"
            ]
          },
          "metadata": {},
          "execution_count": 20
        }
      ],
      "source": [
        "# Exercise 1: define a variable that returns the sum of 1486 and 1985\n",
        "sum = 1486 + 1985\n",
        "\n",
        "sum"
      ]
    },
    {
      "cell_type": "code",
      "execution_count": null,
      "metadata": {
        "id": "6Z5AU4xiijvr"
      },
      "outputs": [],
      "source": [
        "# Exercise 2: import math and use the math.sqrt()function to get the square root of 81\n"
      ]
    },
    {
      "cell_type": "code",
      "execution_count": null,
      "metadata": {
        "id": "kbqrwoGFinBx",
        "outputId": "9e7696b6-f68d-498e-ab12-73d4ce7fc0c7",
        "colab": {
          "base_uri": "https://localhost:8080/"
        }
      },
      "outputs": [
        {
          "output_type": "stream",
          "name": "stdout",
          "text": [
            "ben collings\n"
          ]
        }
      ],
      "source": [
        "# Exercise 3: define a variable called full_name that returns first_name and last_name together with a space inbetween using an f string\n",
        "first_name = \"ben\"\n",
        "\n",
        "last_name = \"collings\"\n",
        "\n",
        "full_name = f\"{first_name} {last_name}\"\n",
        "\n",
        "print(full_name)\n"
      ]
    },
    {
      "cell_type": "markdown",
      "metadata": {
        "id": "--bm6q36hzyd"
      },
      "source": [
        "## Recap\n",
        "- we have used Python as a calculator\n",
        "- we have imported a library (i.e. math)\n",
        "- we have used a variable to store a value\n",
        "- we have printed the value of a variable\n",
        "\n",
        "## Next\n",
        "- we will store a value in a variable\n",
        "- we will use a different data type"
      ]
    },
    {
      "cell_type": "markdown",
      "metadata": {
        "id": "iRKwbZZ9hzyd"
      },
      "source": [
        "# Variables and data types continued\n",
        "\n",
        "- Python is dynamically typed (aka duck-typed 🦆)\n",
        "- We don't have to specify what kind of data we want to store in a variable\n",
        "- Python will figure it out for us"
      ]
    },
    {
      "cell_type": "markdown",
      "metadata": {
        "id": "s3_HWzC_hzyf"
      },
      "source": [
        "This does not only work for numbers or maths, etc. but also for text:"
      ]
    },
    {
      "cell_type": "code",
      "execution_count": null,
      "metadata": {
        "id": "Bh-PPJByhzyf"
      },
      "outputs": [],
      "source": [
        "# assign a string\n",
        "\n",
        "# assign a integer"
      ]
    },
    {
      "cell_type": "code",
      "execution_count": null,
      "metadata": {
        "id": "TM2ikZ1lhzyg"
      },
      "outputs": [],
      "source": [
        "# Let's see what happens when we try to add a string and a number\n"
      ]
    },
    {
      "cell_type": "markdown",
      "metadata": {
        "id": "ht8NbM5ghzyh"
      },
      "source": [
        "On a side-note: Python errors tend to be 'verbose', they might seem intimidating. Read them bottom to top. Use online resources to get help. There is a big community!"
      ]
    },
    {
      "cell_type": "markdown",
      "metadata": {
        "id": "2jCr6GVPhzyh"
      },
      "source": [
        "and another example of data types and consequences. We'll introduce another built-in function called `len()` and use it try and find out how many decimal points Pi has."
      ]
    },
    {
      "cell_type": "code",
      "execution_count": null,
      "metadata": {
        "id": "G58XVdrnhzyh",
        "outputId": "6c3a6eb5-8607-4025-ab9c-94069292090f",
        "colab": {
          "base_uri": "https://localhost:8080/",
          "height": 207
        }
      },
      "outputs": [
        {
          "output_type": "stream",
          "name": "stdout",
          "text": [
            "44\n",
            "3.141592653589793\n"
          ]
        },
        {
          "output_type": "error",
          "ename": "TypeError",
          "evalue": "object of type 'float' has no len()",
          "traceback": [
            "\u001b[0;31m---------------------------------------------------------------------------\u001b[0m",
            "\u001b[0;31mTypeError\u001b[0m                                 Traceback (most recent call last)",
            "\u001b[0;32m<ipython-input-2-02ee01a1261a>\u001b[0m in \u001b[0;36m<cell line: 17>\u001b[0;34m()\u001b[0m\n\u001b[1;32m     15\u001b[0m \u001b[0;34m\u001b[0m\u001b[0m\n\u001b[1;32m     16\u001b[0m \u001b[0;31m# Get the length of  pi_string\u001b[0m\u001b[0;34m\u001b[0m\u001b[0;34m\u001b[0m\u001b[0m\n\u001b[0;32m---> 17\u001b[0;31m \u001b[0mprint\u001b[0m\u001b[0;34m(\u001b[0m\u001b[0mlen\u001b[0m\u001b[0;34m(\u001b[0m\u001b[0mmath\u001b[0m\u001b[0;34m.\u001b[0m\u001b[0mpi\u001b[0m\u001b[0;34m)\u001b[0m\u001b[0;34m)\u001b[0m\u001b[0;34m\u001b[0m\u001b[0;34m\u001b[0m\u001b[0m\n\u001b[0m",
            "\u001b[0;31mTypeError\u001b[0m: object of type 'float' has no len()"
          ]
        }
      ],
      "source": [
        "# we can use the len() function to return the length of a string\n",
        "my_long_string = 'blah blah blah this is a string etc etc etc.'\n",
        "\n",
        "print(len(my_long_string))\n",
        "\n",
        "# Let's try to find out how many decimal points some number has\n",
        "# let's use the number Pi (because it is infinite)\n",
        "import math\n",
        "print(math.pi)\n",
        "\n",
        "# we could think that we can just put a len() around it, but that doesn't work\n",
        "\n",
        "# Convert the float to a string\n",
        "pi_string = str(math.pi)\n",
        "\n",
        "# Get the length of  pi_string\n",
        "print(len(math.pi))"
      ]
    },
    {
      "cell_type": "markdown",
      "source": [
        "Some functions expect certain data types or are designed to work with certain data types. `len()` is a function that doesn't work with floats and integers so it throws us what's called a `TypeError`. Explaining that the float type has no function called `len()`. This can be hard to understand in the first instance!"
      ],
      "metadata": {
        "id": "mOB7c6Bo_NfR"
      }
    },
    {
      "cell_type": "markdown",
      "metadata": {
        "id": "EYi-AUnWhzyh"
      },
      "source": [
        "on a side-note: floats in Python have about 16 decimal places; the rest is cut off; a discussion (exceeding today's scope) can be found [here](https://en.wikipedia.org/wiki/Double-precision_floating-point_format)"
      ]
    },
    {
      "cell_type": "markdown",
      "metadata": {
        "id": "pMHfU-Xqhzyh"
      },
      "source": [
        "# More complex data types\n",
        "\n",
        "- to iterate: This is a 4h intro\n",
        "- we will only show you four other data types\n",
        "  - `list` (list) which is a collection of items\n",
        "  - `dict`  (dictionary) which is a series of key-value pair\n",
        "  - `pd.DataFrame` ([pandas](https://pandas.pydata.org/) DataFrame) which is a 2D data structure with columns that can have different data types\n",
        "    - alternative to [R](https://www.r-project.org/)\n",
        "\t\t- (we will import our spreadsheet into this data type)"
      ]
    },
    {
      "cell_type": "markdown",
      "source": [
        "#### Lists"
      ],
      "metadata": {
        "id": "c6N0iBbmKQKT"
      }
    },
    {
      "cell_type": "code",
      "execution_count": null,
      "metadata": {
        "id": "shzMQ51ehzyi"
      },
      "outputs": [],
      "source": [
        "# Lets have a list of names\n"
      ]
    },
    {
      "cell_type": "code",
      "execution_count": null,
      "metadata": {
        "id": "_c8qejXhhzyp"
      },
      "outputs": [],
      "source": [
        "# Let's only show the first element of the list\n"
      ]
    },
    {
      "cell_type": "markdown",
      "metadata": {
        "id": "xg3n4vnthzyp"
      },
      "source": [
        "Wait! Jane? 🤔\n",
        "Yes, Python is zero-indexed! 🤯\n",
        "If we want to see the first element of a list, we need to use `list[0]` 🤯"
      ]
    },
    {
      "cell_type": "code",
      "execution_count": null,
      "metadata": {
        "id": "ca1V93U6hzyp"
      },
      "outputs": [],
      "source": []
    },
    {
      "cell_type": "markdown",
      "metadata": {
        "id": "LOo4FGm9hzyp"
      },
      "source": [
        "there you go!\n",
        "\n",
        "\n",
        "(You can also use negative indices to access elements from the end of the list. `list[-1]` will give you the last element of the list)\n",
        "You can also put a list in a list\n",
        "this is then a `list of lists` or a `2D list`\n",
        "\n",
        "<img src=\"https://github.com/UoA-eResearch/ResBaz24Python/blob/main/Assets/veg.png?raw=1\" alt=\"ListOfLists\" style=\"width: 400px\"/>\n"
      ]
    },
    {
      "cell_type": "code",
      "execution_count": null,
      "metadata": {
        "id": "TAffWZ0bhzyq",
        "colab": {
          "base_uri": "https://localhost:8080/"
        },
        "outputId": "06c7d8ce-a68b-4aff-e01d-a6065f5c484e"
      },
      "outputs": [
        {
          "output_type": "execute_result",
          "data": {
            "text/plain": [
              "[['lettuce', 'peppers', 'apples'],\n",
              " ['tomato', 'onion', 'cilantro'],\n",
              " ['potato', 'brocoli', 'kohlrabi']]"
            ]
          },
          "metadata": {},
          "execution_count": 1
        }
      ],
      "source": [
        "# define a nested list\n",
        "veg = [['lettuce', 'peppers', 'apples'],['tomato', 'onion', 'cilantro'],['potato', 'brocoli', 'kohlrabi']]\n",
        "\n",
        "veg"
      ]
    },
    {
      "cell_type": "markdown",
      "metadata": {
        "id": "8Jp3yl1Vhzyq"
      },
      "source": [
        "let's try to find the cilantro.\n",
        "in other words: lets speficy the *correct cell* in this list of lists"
      ]
    },
    {
      "cell_type": "code",
      "execution_count": null,
      "metadata": {
        "id": "Gahgf-gYhzyq",
        "colab": {
          "base_uri": "https://localhost:8080/",
          "height": 35
        },
        "outputId": "a58473c2-1d44-4c65-b4ec-cc09a1de4bf3"
      },
      "outputs": [
        {
          "output_type": "execute_result",
          "data": {
            "text/plain": [
              "'cilantro'"
            ],
            "application/vnd.google.colaboratory.intrinsic+json": {
              "type": "string"
            }
          },
          "metadata": {},
          "execution_count": 2
        }
      ],
      "source": [
        "veg[1][2]"
      ]
    },
    {
      "cell_type": "code",
      "execution_count": null,
      "metadata": {
        "id": "HUtS203xhzyq"
      },
      "outputs": [],
      "source": [
        "# Demonstration: How to get a subset of a list\n"
      ]
    },
    {
      "cell_type": "code",
      "execution_count": null,
      "metadata": {
        "id": "uvss36Vthzyr"
      },
      "outputs": [],
      "source": [
        "# Demonstration: How to append a list\n",
        "\n",
        "\n",
        "# what happens if we push the 'play' button on this cell a couple of times?"
      ]
    },
    {
      "cell_type": "code",
      "execution_count": null,
      "metadata": {
        "id": "isjGA732RqKf"
      },
      "outputs": [],
      "source": [
        "# Exercice\n",
        "# Create a list called my_fruits and store banana, apple, orange\n",
        "\n",
        "# Append kiwi and avocado to your list of fruits.\n",
        "\n",
        "# How would you return the last 3 fruits?\n"
      ]
    },
    {
      "cell_type": "markdown",
      "source": [
        "#### Dictionaries\n",
        "\n",
        "Dictionaries are what we called key:value pairs. We can use them to store values (which can be another data type) that are linked to a given key which can also be . For example we could have a dictionary called `fresh_produce` that contains two key value pairs that contain lists of  `vegetables` and `fruits` of associated produce. To define a dictionary we use `{}`, and we define the key:value pairs using commas and colons\n"
      ],
      "metadata": {
        "id": "eqTpJYk8KL9_"
      }
    },
    {
      "cell_type": "code",
      "source": [
        "# fresh produce dictionary\n",
        "fresh_produce = {\"vegetables\": veg,\n",
        "                 \"fruits\": ['banana', 'apple', 'orange']}\n",
        "\n",
        "fresh_produce"
      ],
      "metadata": {
        "colab": {
          "base_uri": "https://localhost:8080/"
        },
        "id": "CSoNFOzIKtJl",
        "outputId": "3672f4d2-b442-45c2-9cbb-1cf02f3927ca"
      },
      "execution_count": null,
      "outputs": [
        {
          "output_type": "execute_result",
          "data": {
            "text/plain": [
              "{'vegetables': [['lettuce', 'peppers', 'apples'],\n",
              "  ['tomato', 'onion', 'eggplant'],\n",
              "  ['potato', 'brocoli', 'kohlrabi']],\n",
              " 'fruits': ['banana', 'apple', 'orange']}"
            ]
          },
          "metadata": {},
          "execution_count": 11
        }
      ]
    },
    {
      "cell_type": "markdown",
      "source": [
        "To return values associated with a given key, we can specify the key like so `dictionary['key']` or using `get()`"
      ],
      "metadata": {
        "id": "Mg9AjNiYVqfA"
      }
    },
    {
      "cell_type": "code",
      "source": [
        "fresh_produce['vegetables']"
      ],
      "metadata": {
        "colab": {
          "base_uri": "https://localhost:8080/"
        },
        "id": "ncmCr7YaXcX4",
        "outputId": "e6a32b98-23d3-4897-f9f5-0872bf7a50ff"
      },
      "execution_count": null,
      "outputs": [
        {
          "output_type": "execute_result",
          "data": {
            "text/plain": [
              "[['lettuce', 'peppers', 'apples'],\n",
              " ['tomato', 'onion', 'eggplant'],\n",
              " ['potato', 'brocoli', 'kohlrabi']]"
            ]
          },
          "metadata": {},
          "execution_count": 13
        }
      ]
    },
    {
      "cell_type": "code",
      "source": [
        "fresh_produce.get(\"fruits\")"
      ],
      "metadata": {
        "colab": {
          "base_uri": "https://localhost:8080/"
        },
        "id": "UzsqgyeGYAf3",
        "outputId": "3040e9ea-a5b6-4be9-de2a-d02712ac0dcd"
      },
      "execution_count": null,
      "outputs": [
        {
          "output_type": "execute_result",
          "data": {
            "text/plain": [
              "['banana', 'apple', 'orange']"
            ]
          },
          "metadata": {},
          "execution_count": 14
        }
      ]
    },
    {
      "cell_type": "markdown",
      "source": [
        "We can add by using what's called an index key (e.g. `fresh_produce['meats']`) and assigning this a value. To change a value in a dictionary we use the `update()` method. This can also be used to add a new key:value pair as well.  "
      ],
      "metadata": {
        "id": "skzSMK8gYFpI"
      }
    },
    {
      "cell_type": "code",
      "source": [
        "fresh_produce[\"meats\"] = [\"chicken\", \"pork\", \"beef\"]\n",
        "\n",
        "\n",
        "fresh_produce.update({\"cheeses\": [\"cheddar\", \"swiss\", \"blue\"]})\n",
        "fresh_produce.update({\"cheeses\": [\"brie\", \"swiss\", \"blue\"]})"
      ],
      "metadata": {
        "id": "g2_OPqSRYfXM"
      },
      "execution_count": null,
      "outputs": []
    },
    {
      "cell_type": "markdown",
      "source": [
        "#### Pandas dataframes\n",
        "\n",
        "Pandas can be thought of as both a library which has an extensive set of tools and functions that we can import to use in our scripts, as well as a data type called DataFrames. You can think of Pandas dataframes almost as spreadsheets with heaps of funcationality for data analysis. We'll take a brief look at Pandas Dataframes. Data is stored as rows and columns where:\n",
        "\n",
        "      - rows represent individual records/values/observations\n",
        "      - columns represent variables/features attributes. Each column can hold different data types (e.g. strings, integers, floats)\n",
        "\n",
        "![Screenshot 2024-07-24 at 1.55.25 PM.png](data:image/png;base64,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)"
      ],
      "metadata": {
        "id": "PAVXqD3GZ2TV"
      }
    },
    {
      "cell_type": "markdown",
      "source": [
        "We need to import pandas to start working with/using DataFrames. To define a DataFrame we usually use a dictionary, where the keys represent the columns and the values for each key will populate the rows."
      ],
      "metadata": {
        "id": "93-E8a_5cHBB"
      }
    },
    {
      "cell_type": "code",
      "source": [
        "import pandas as pd\n",
        "\n",
        "# define dataframe using a dictionary\n",
        "dataframe = pd.DataFrame({\n",
        "    \"Name\": [\"Ben\", \"Tom\", \"Luke\", \"Hannah\"],\n",
        "    \"Age\": [31, 24, 45, 27],\n",
        "    \"Sex\": [\"male\", \"male\", \"male\", \"female\"]\n",
        "})\n",
        "\n",
        "dataframe"
      ],
      "metadata": {
        "colab": {
          "base_uri": "https://localhost:8080/",
          "height": 173
        },
        "id": "IEMBiL-tchYN",
        "outputId": "72fee225-4ca4-4f01-8102-9c1523907036"
      },
      "execution_count": null,
      "outputs": [
        {
          "output_type": "execute_result",
          "data": {
            "text/plain": [
              "     Name  Age     Sex\n",
              "0     Ben   31    male\n",
              "1     Tom   24    male\n",
              "2    Luke   45    male\n",
              "3  Hannah   27  female"
            ],
            "text/html": [
              "\n",
              "  <div id=\"df-67e681d5-e736-4920-9dff-592135f1a0d7\" class=\"colab-df-container\">\n",
              "    <div>\n",
              "<style scoped>\n",
              "    .dataframe tbody tr th:only-of-type {\n",
              "        vertical-align: middle;\n",
              "    }\n",
              "\n",
              "    .dataframe tbody tr th {\n",
              "        vertical-align: top;\n",
              "    }\n",
              "\n",
              "    .dataframe thead th {\n",
              "        text-align: right;\n",
              "    }\n",
              "</style>\n",
              "<table border=\"1\" class=\"dataframe\">\n",
              "  <thead>\n",
              "    <tr style=\"text-align: right;\">\n",
              "      <th></th>\n",
              "      <th>Name</th>\n",
              "      <th>Age</th>\n",
              "      <th>Sex</th>\n",
              "    </tr>\n",
              "  </thead>\n",
              "  <tbody>\n",
              "    <tr>\n",
              "      <th>0</th>\n",
              "      <td>Ben</td>\n",
              "      <td>31</td>\n",
              "      <td>male</td>\n",
              "    </tr>\n",
              "    <tr>\n",
              "      <th>1</th>\n",
              "      <td>Tom</td>\n",
              "      <td>24</td>\n",
              "      <td>male</td>\n",
              "    </tr>\n",
              "    <tr>\n",
              "      <th>2</th>\n",
              "      <td>Luke</td>\n",
              "      <td>45</td>\n",
              "      <td>male</td>\n",
              "    </tr>\n",
              "    <tr>\n",
              "      <th>3</th>\n",
              "      <td>Hannah</td>\n",
              "      <td>27</td>\n",
              "      <td>female</td>\n",
              "    </tr>\n",
              "  </tbody>\n",
              "</table>\n",
              "</div>\n",
              "    <div class=\"colab-df-buttons\">\n",
              "\n",
              "  <div class=\"colab-df-container\">\n",
              "    <button class=\"colab-df-convert\" onclick=\"convertToInteractive('df-67e681d5-e736-4920-9dff-592135f1a0d7')\"\n",
              "            title=\"Convert this dataframe to an interactive table.\"\n",
              "            style=\"display:none;\">\n",
              "\n",
              "  <svg xmlns=\"http://www.w3.org/2000/svg\" height=\"24px\" viewBox=\"0 -960 960 960\">\n",
              "    <path d=\"M120-120v-720h720v720H120Zm60-500h600v-160H180v160Zm220 220h160v-160H400v160Zm0 220h160v-160H400v160ZM180-400h160v-160H180v160Zm440 0h160v-160H620v160ZM180-180h160v-160H180v160Zm440 0h160v-160H620v160Z\"/>\n",
              "  </svg>\n",
              "    </button>\n",
              "\n",
              "  <style>\n",
              "    .colab-df-container {\n",
              "      display:flex;\n",
              "      gap: 12px;\n",
              "    }\n",
              "\n",
              "    .colab-df-convert {\n",
              "      background-color: #E8F0FE;\n",
              "      border: none;\n",
              "      border-radius: 50%;\n",
              "      cursor: pointer;\n",
              "      display: none;\n",
              "      fill: #1967D2;\n",
              "      height: 32px;\n",
              "      padding: 0 0 0 0;\n",
              "      width: 32px;\n",
              "    }\n",
              "\n",
              "    .colab-df-convert:hover {\n",
              "      background-color: #E2EBFA;\n",
              "      box-shadow: 0px 1px 2px rgba(60, 64, 67, 0.3), 0px 1px 3px 1px rgba(60, 64, 67, 0.15);\n",
              "      fill: #174EA6;\n",
              "    }\n",
              "\n",
              "    .colab-df-buttons div {\n",
              "      margin-bottom: 4px;\n",
              "    }\n",
              "\n",
              "    [theme=dark] .colab-df-convert {\n",
              "      background-color: #3B4455;\n",
              "      fill: #D2E3FC;\n",
              "    }\n",
              "\n",
              "    [theme=dark] .colab-df-convert:hover {\n",
              "      background-color: #434B5C;\n",
              "      box-shadow: 0px 1px 3px 1px rgba(0, 0, 0, 0.15);\n",
              "      filter: drop-shadow(0px 1px 2px rgba(0, 0, 0, 0.3));\n",
              "      fill: #FFFFFF;\n",
              "    }\n",
              "  </style>\n",
              "\n",
              "    <script>\n",
              "      const buttonEl =\n",
              "        document.querySelector('#df-67e681d5-e736-4920-9dff-592135f1a0d7 button.colab-df-convert');\n",
              "      buttonEl.style.display =\n",
              "        google.colab.kernel.accessAllowed ? 'block' : 'none';\n",
              "\n",
              "      async function convertToInteractive(key) {\n",
              "        const element = document.querySelector('#df-67e681d5-e736-4920-9dff-592135f1a0d7');\n",
              "        const dataTable =\n",
              "          await google.colab.kernel.invokeFunction('convertToInteractive',\n",
              "                                                    [key], {});\n",
              "        if (!dataTable) return;\n",
              "\n",
              "        const docLinkHtml = 'Like what you see? Visit the ' +\n",
              "          '<a target=\"_blank\" href=https://colab.research.google.com/notebooks/data_table.ipynb>data table notebook</a>'\n",
              "          + ' to learn more about interactive tables.';\n",
              "        element.innerHTML = '';\n",
              "        dataTable['output_type'] = 'display_data';\n",
              "        await google.colab.output.renderOutput(dataTable, element);\n",
              "        const docLink = document.createElement('div');\n",
              "        docLink.innerHTML = docLinkHtml;\n",
              "        element.appendChild(docLink);\n",
              "      }\n",
              "    </script>\n",
              "  </div>\n",
              "\n",
              "\n",
              "<div id=\"df-52c52c14-8077-4ef7-86ca-26cf8ca61de8\">\n",
              "  <button class=\"colab-df-quickchart\" onclick=\"quickchart('df-52c52c14-8077-4ef7-86ca-26cf8ca61de8')\"\n",
              "            title=\"Suggest charts\"\n",
              "            style=\"display:none;\">\n",
              "\n",
              "<svg xmlns=\"http://www.w3.org/2000/svg\" height=\"24px\"viewBox=\"0 0 24 24\"\n",
              "     width=\"24px\">\n",
              "    <g>\n",
              "        <path d=\"M19 3H5c-1.1 0-2 .9-2 2v14c0 1.1.9 2 2 2h14c1.1 0 2-.9 2-2V5c0-1.1-.9-2-2-2zM9 17H7v-7h2v7zm4 0h-2V7h2v10zm4 0h-2v-4h2v4z\"/>\n",
              "    </g>\n",
              "</svg>\n",
              "  </button>\n",
              "\n",
              "<style>\n",
              "  .colab-df-quickchart {\n",
              "      --bg-color: #E8F0FE;\n",
              "      --fill-color: #1967D2;\n",
              "      --hover-bg-color: #E2EBFA;\n",
              "      --hover-fill-color: #174EA6;\n",
              "      --disabled-fill-color: #AAA;\n",
              "      --disabled-bg-color: #DDD;\n",
              "  }\n",
              "\n",
              "  [theme=dark] .colab-df-quickchart {\n",
              "      --bg-color: #3B4455;\n",
              "      --fill-color: #D2E3FC;\n",
              "      --hover-bg-color: #434B5C;\n",
              "      --hover-fill-color: #FFFFFF;\n",
              "      --disabled-bg-color: #3B4455;\n",
              "      --disabled-fill-color: #666;\n",
              "  }\n",
              "\n",
              "  .colab-df-quickchart {\n",
              "    background-color: var(--bg-color);\n",
              "    border: none;\n",
              "    border-radius: 50%;\n",
              "    cursor: pointer;\n",
              "    display: none;\n",
              "    fill: var(--fill-color);\n",
              "    height: 32px;\n",
              "    padding: 0;\n",
              "    width: 32px;\n",
              "  }\n",
              "\n",
              "  .colab-df-quickchart:hover {\n",
              "    background-color: var(--hover-bg-color);\n",
              "    box-shadow: 0 1px 2px rgba(60, 64, 67, 0.3), 0 1px 3px 1px rgba(60, 64, 67, 0.15);\n",
              "    fill: var(--button-hover-fill-color);\n",
              "  }\n",
              "\n",
              "  .colab-df-quickchart-complete:disabled,\n",
              "  .colab-df-quickchart-complete:disabled:hover {\n",
              "    background-color: var(--disabled-bg-color);\n",
              "    fill: var(--disabled-fill-color);\n",
              "    box-shadow: none;\n",
              "  }\n",
              "\n",
              "  .colab-df-spinner {\n",
              "    border: 2px solid var(--fill-color);\n",
              "    border-color: transparent;\n",
              "    border-bottom-color: var(--fill-color);\n",
              "    animation:\n",
              "      spin 1s steps(1) infinite;\n",
              "  }\n",
              "\n",
              "  @keyframes spin {\n",
              "    0% {\n",
              "      border-color: transparent;\n",
              "      border-bottom-color: var(--fill-color);\n",
              "      border-left-color: var(--fill-color);\n",
              "    }\n",
              "    20% {\n",
              "      border-color: transparent;\n",
              "      border-left-color: var(--fill-color);\n",
              "      border-top-color: var(--fill-color);\n",
              "    }\n",
              "    30% {\n",
              "      border-color: transparent;\n",
              "      border-left-color: var(--fill-color);\n",
              "      border-top-color: var(--fill-color);\n",
              "      border-right-color: var(--fill-color);\n",
              "    }\n",
              "    40% {\n",
              "      border-color: transparent;\n",
              "      border-right-color: var(--fill-color);\n",
              "      border-top-color: var(--fill-color);\n",
              "    }\n",
              "    60% {\n",
              "      border-color: transparent;\n",
              "      border-right-color: var(--fill-color);\n",
              "    }\n",
              "    80% {\n",
              "      border-color: transparent;\n",
              "      border-right-color: var(--fill-color);\n",
              "      border-bottom-color: var(--fill-color);\n",
              "    }\n",
              "    90% {\n",
              "      border-color: transparent;\n",
              "      border-bottom-color: var(--fill-color);\n",
              "    }\n",
              "  }\n",
              "</style>\n",
              "\n",
              "  <script>\n",
              "    async function quickchart(key) {\n",
              "      const quickchartButtonEl =\n",
              "        document.querySelector('#' + key + ' button');\n",
              "      quickchartButtonEl.disabled = true;  // To prevent multiple clicks.\n",
              "      quickchartButtonEl.classList.add('colab-df-spinner');\n",
              "      try {\n",
              "        const charts = await google.colab.kernel.invokeFunction(\n",
              "            'suggestCharts', [key], {});\n",
              "      } catch (error) {\n",
              "        console.error('Error during call to suggestCharts:', error);\n",
              "      }\n",
              "      quickchartButtonEl.classList.remove('colab-df-spinner');\n",
              "      quickchartButtonEl.classList.add('colab-df-quickchart-complete');\n",
              "    }\n",
              "    (() => {\n",
              "      let quickchartButtonEl =\n",
              "        document.querySelector('#df-52c52c14-8077-4ef7-86ca-26cf8ca61de8 button');\n",
              "      quickchartButtonEl.style.display =\n",
              "        google.colab.kernel.accessAllowed ? 'block' : 'none';\n",
              "    })();\n",
              "  </script>\n",
              "</div>\n",
              "\n",
              "  <div id=\"id_ff314539-e150-4893-a1f4-89191e269d6d\">\n",
              "    <style>\n",
              "      .colab-df-generate {\n",
              "        background-color: #E8F0FE;\n",
              "        border: none;\n",
              "        border-radius: 50%;\n",
              "        cursor: pointer;\n",
              "        display: none;\n",
              "        fill: #1967D2;\n",
              "        height: 32px;\n",
              "        padding: 0 0 0 0;\n",
              "        width: 32px;\n",
              "      }\n",
              "\n",
              "      .colab-df-generate:hover {\n",
              "        background-color: #E2EBFA;\n",
              "        box-shadow: 0px 1px 2px rgba(60, 64, 67, 0.3), 0px 1px 3px 1px rgba(60, 64, 67, 0.15);\n",
              "        fill: #174EA6;\n",
              "      }\n",
              "\n",
              "      [theme=dark] .colab-df-generate {\n",
              "        background-color: #3B4455;\n",
              "        fill: #D2E3FC;\n",
              "      }\n",
              "\n",
              "      [theme=dark] .colab-df-generate:hover {\n",
              "        background-color: #434B5C;\n",
              "        box-shadow: 0px 1px 3px 1px rgba(0, 0, 0, 0.15);\n",
              "        filter: drop-shadow(0px 1px 2px rgba(0, 0, 0, 0.3));\n",
              "        fill: #FFFFFF;\n",
              "      }\n",
              "    </style>\n",
              "    <button class=\"colab-df-generate\" onclick=\"generateWithVariable('dataframe')\"\n",
              "            title=\"Generate code using this dataframe.\"\n",
              "            style=\"display:none;\">\n",
              "\n",
              "  <svg xmlns=\"http://www.w3.org/2000/svg\" height=\"24px\"viewBox=\"0 0 24 24\"\n",
              "       width=\"24px\">\n",
              "    <path d=\"M7,19H8.4L18.45,9,17,7.55,7,17.6ZM5,21V16.75L18.45,3.32a2,2,0,0,1,2.83,0l1.4,1.43a1.91,1.91,0,0,1,.58,1.4,1.91,1.91,0,0,1-.58,1.4L9.25,21ZM18.45,9,17,7.55Zm-12,3A5.31,5.31,0,0,0,4.9,8.1,5.31,5.31,0,0,0,1,6.5,5.31,5.31,0,0,0,4.9,4.9,5.31,5.31,0,0,0,6.5,1,5.31,5.31,0,0,0,8.1,4.9,5.31,5.31,0,0,0,12,6.5,5.46,5.46,0,0,0,6.5,12Z\"/>\n",
              "  </svg>\n",
              "    </button>\n",
              "    <script>\n",
              "      (() => {\n",
              "      const buttonEl =\n",
              "        document.querySelector('#id_ff314539-e150-4893-a1f4-89191e269d6d button.colab-df-generate');\n",
              "      buttonEl.style.display =\n",
              "        google.colab.kernel.accessAllowed ? 'block' : 'none';\n",
              "\n",
              "      buttonEl.onclick = () => {\n",
              "        google.colab.notebook.generateWithVariable('dataframe');\n",
              "      }\n",
              "      })();\n",
              "    </script>\n",
              "  </div>\n",
              "\n",
              "    </div>\n",
              "  </div>\n"
            ],
            "application/vnd.google.colaboratory.intrinsic+json": {
              "type": "dataframe",
              "variable_name": "dataframe",
              "summary": "{\n  \"name\": \"dataframe\",\n  \"rows\": 4,\n  \"fields\": [\n    {\n      \"column\": \"Name\",\n      \"properties\": {\n        \"dtype\": \"string\",\n        \"num_unique_values\": 4,\n        \"samples\": [\n          \"Tom\",\n          \"Hannah\",\n          \"Ben\"\n        ],\n        \"semantic_type\": \"\",\n        \"description\": \"\"\n      }\n    },\n    {\n      \"column\": \"Age\",\n      \"properties\": {\n        \"dtype\": \"number\",\n        \"std\": 9,\n        \"min\": 24,\n        \"max\": 45,\n        \"num_unique_values\": 4,\n        \"samples\": [\n          24,\n          27,\n          31\n        ],\n        \"semantic_type\": \"\",\n        \"description\": \"\"\n      }\n    },\n    {\n      \"column\": \"Sex\",\n      \"properties\": {\n        \"dtype\": \"string\",\n        \"num_unique_values\": 2,\n        \"samples\": [\n          \"female\",\n          \"male\"\n        ],\n        \"semantic_type\": \"\",\n        \"description\": \"\"\n      }\n    }\n  ]\n}"
            }
          },
          "metadata": {},
          "execution_count": 23
        }
      ]
    },
    {
      "cell_type": "markdown",
      "source": [
        "We can select a single column in the same way we would select the values from a given key in a dictionary. A single column in a DataFrame is referred to as a Series."
      ],
      "metadata": {
        "id": "Lh55DAevftjO"
      }
    },
    {
      "cell_type": "code",
      "source": [
        "dataframe[\"Age\"]"
      ],
      "metadata": {
        "colab": {
          "base_uri": "https://localhost:8080/"
        },
        "id": "2mGOjDErf6Ya",
        "outputId": "ab2b8481-526e-4c7c-f06e-3774bbef1248"
      },
      "execution_count": null,
      "outputs": [
        {
          "output_type": "execute_result",
          "data": {
            "text/plain": [
              "0    31\n",
              "1    24\n",
              "2    45\n",
              "3    27\n",
              "Name: Age, dtype: int64"
            ]
          },
          "metadata": {},
          "execution_count": 24
        }
      ]
    },
    {
      "cell_type": "markdown",
      "source": [
        "We can do lots of things with a column/series. If we have numeric data we can return some basic statistics using built-in Pandas functions. We define these a little differently where instead of calling the variable (in this case the column/series) inside the function, we call the variable/object and then the function we want, we still need the `()` though."
      ],
      "metadata": {
        "id": "Hh-fKfqmgLuB"
      }
    },
    {
      "cell_type": "code",
      "source": [
        "print(f\"The max value in age is {dataframe['Age'].max()}\")\n",
        "\n",
        "print(f\"The mean values in age is {dataframe['Age'].mean()}\")\n",
        "\n",
        "dataframe.describe()"
      ],
      "metadata": {
        "colab": {
          "base_uri": "https://localhost:8080/",
          "height": 331
        },
        "id": "HNDVPBbygjzV",
        "outputId": "beda1b4d-dd3b-4fd5-e707-16f76107b963"
      },
      "execution_count": null,
      "outputs": [
        {
          "output_type": "stream",
          "name": "stdout",
          "text": [
            "The max value in age is 45\n",
            "The mean values in age is 31.75\n"
          ]
        },
        {
          "output_type": "execute_result",
          "data": {
            "text/plain": [
              "             Age\n",
              "count   4.000000\n",
              "mean   31.750000\n",
              "std     9.287088\n",
              "min    24.000000\n",
              "25%    26.250000\n",
              "50%    29.000000\n",
              "75%    34.500000\n",
              "max    45.000000"
            ],
            "text/html": [
              "\n",
              "  <div id=\"df-f17ebb5f-3baf-474c-9ae1-12a1f2d39eb2\" class=\"colab-df-container\">\n",
              "    <div>\n",
              "<style scoped>\n",
              "    .dataframe tbody tr th:only-of-type {\n",
              "        vertical-align: middle;\n",
              "    }\n",
              "\n",
              "    .dataframe tbody tr th {\n",
              "        vertical-align: top;\n",
              "    }\n",
              "\n",
              "    .dataframe thead th {\n",
              "        text-align: right;\n",
              "    }\n",
              "</style>\n",
              "<table border=\"1\" class=\"dataframe\">\n",
              "  <thead>\n",
              "    <tr style=\"text-align: right;\">\n",
              "      <th></th>\n",
              "      <th>Age</th>\n",
              "    </tr>\n",
              "  </thead>\n",
              "  <tbody>\n",
              "    <tr>\n",
              "      <th>count</th>\n",
              "      <td>4.000000</td>\n",
              "    </tr>\n",
              "    <tr>\n",
              "      <th>mean</th>\n",
              "      <td>31.750000</td>\n",
              "    </tr>\n",
              "    <tr>\n",
              "      <th>std</th>\n",
              "      <td>9.287088</td>\n",
              "    </tr>\n",
              "    <tr>\n",
              "      <th>min</th>\n",
              "      <td>24.000000</td>\n",
              "    </tr>\n",
              "    <tr>\n",
              "      <th>25%</th>\n",
              "      <td>26.250000</td>\n",
              "    </tr>\n",
              "    <tr>\n",
              "      <th>50%</th>\n",
              "      <td>29.000000</td>\n",
              "    </tr>\n",
              "    <tr>\n",
              "      <th>75%</th>\n",
              "      <td>34.500000</td>\n",
              "    </tr>\n",
              "    <tr>\n",
              "      <th>max</th>\n",
              "      <td>45.000000</td>\n",
              "    </tr>\n",
              "  </tbody>\n",
              "</table>\n",
              "</div>\n",
              "    <div class=\"colab-df-buttons\">\n",
              "\n",
              "  <div class=\"colab-df-container\">\n",
              "    <button class=\"colab-df-convert\" onclick=\"convertToInteractive('df-f17ebb5f-3baf-474c-9ae1-12a1f2d39eb2')\"\n",
              "            title=\"Convert this dataframe to an interactive table.\"\n",
              "            style=\"display:none;\">\n",
              "\n",
              "  <svg xmlns=\"http://www.w3.org/2000/svg\" height=\"24px\" viewBox=\"0 -960 960 960\">\n",
              "    <path d=\"M120-120v-720h720v720H120Zm60-500h600v-160H180v160Zm220 220h160v-160H400v160Zm0 220h160v-160H400v160ZM180-400h160v-160H180v160Zm440 0h160v-160H620v160ZM180-180h160v-160H180v160Zm440 0h160v-160H620v160Z\"/>\n",
              "  </svg>\n",
              "    </button>\n",
              "\n",
              "  <style>\n",
              "    .colab-df-container {\n",
              "      display:flex;\n",
              "      gap: 12px;\n",
              "    }\n",
              "\n",
              "    .colab-df-convert {\n",
              "      background-color: #E8F0FE;\n",
              "      border: none;\n",
              "      border-radius: 50%;\n",
              "      cursor: pointer;\n",
              "      display: none;\n",
              "      fill: #1967D2;\n",
              "      height: 32px;\n",
              "      padding: 0 0 0 0;\n",
              "      width: 32px;\n",
              "    }\n",
              "\n",
              "    .colab-df-convert:hover {\n",
              "      background-color: #E2EBFA;\n",
              "      box-shadow: 0px 1px 2px rgba(60, 64, 67, 0.3), 0px 1px 3px 1px rgba(60, 64, 67, 0.15);\n",
              "      fill: #174EA6;\n",
              "    }\n",
              "\n",
              "    .colab-df-buttons div {\n",
              "      margin-bottom: 4px;\n",
              "    }\n",
              "\n",
              "    [theme=dark] .colab-df-convert {\n",
              "      background-color: #3B4455;\n",
              "      fill: #D2E3FC;\n",
              "    }\n",
              "\n",
              "    [theme=dark] .colab-df-convert:hover {\n",
              "      background-color: #434B5C;\n",
              "      box-shadow: 0px 1px 3px 1px rgba(0, 0, 0, 0.15);\n",
              "      filter: drop-shadow(0px 1px 2px rgba(0, 0, 0, 0.3));\n",
              "      fill: #FFFFFF;\n",
              "    }\n",
              "  </style>\n",
              "\n",
              "    <script>\n",
              "      const buttonEl =\n",
              "        document.querySelector('#df-f17ebb5f-3baf-474c-9ae1-12a1f2d39eb2 button.colab-df-convert');\n",
              "      buttonEl.style.display =\n",
              "        google.colab.kernel.accessAllowed ? 'block' : 'none';\n",
              "\n",
              "      async function convertToInteractive(key) {\n",
              "        const element = document.querySelector('#df-f17ebb5f-3baf-474c-9ae1-12a1f2d39eb2');\n",
              "        const dataTable =\n",
              "          await google.colab.kernel.invokeFunction('convertToInteractive',\n",
              "                                                    [key], {});\n",
              "        if (!dataTable) return;\n",
              "\n",
              "        const docLinkHtml = 'Like what you see? Visit the ' +\n",
              "          '<a target=\"_blank\" href=https://colab.research.google.com/notebooks/data_table.ipynb>data table notebook</a>'\n",
              "          + ' to learn more about interactive tables.';\n",
              "        element.innerHTML = '';\n",
              "        dataTable['output_type'] = 'display_data';\n",
              "        await google.colab.output.renderOutput(dataTable, element);\n",
              "        const docLink = document.createElement('div');\n",
              "        docLink.innerHTML = docLinkHtml;\n",
              "        element.appendChild(docLink);\n",
              "      }\n",
              "    </script>\n",
              "  </div>\n",
              "\n",
              "\n",
              "<div id=\"df-e360344a-f3b9-4546-ae21-e895598b0cc9\">\n",
              "  <button class=\"colab-df-quickchart\" onclick=\"quickchart('df-e360344a-f3b9-4546-ae21-e895598b0cc9')\"\n",
              "            title=\"Suggest charts\"\n",
              "            style=\"display:none;\">\n",
              "\n",
              "<svg xmlns=\"http://www.w3.org/2000/svg\" height=\"24px\"viewBox=\"0 0 24 24\"\n",
              "     width=\"24px\">\n",
              "    <g>\n",
              "        <path d=\"M19 3H5c-1.1 0-2 .9-2 2v14c0 1.1.9 2 2 2h14c1.1 0 2-.9 2-2V5c0-1.1-.9-2-2-2zM9 17H7v-7h2v7zm4 0h-2V7h2v10zm4 0h-2v-4h2v4z\"/>\n",
              "    </g>\n",
              "</svg>\n",
              "  </button>\n",
              "\n",
              "<style>\n",
              "  .colab-df-quickchart {\n",
              "      --bg-color: #E8F0FE;\n",
              "      --fill-color: #1967D2;\n",
              "      --hover-bg-color: #E2EBFA;\n",
              "      --hover-fill-color: #174EA6;\n",
              "      --disabled-fill-color: #AAA;\n",
              "      --disabled-bg-color: #DDD;\n",
              "  }\n",
              "\n",
              "  [theme=dark] .colab-df-quickchart {\n",
              "      --bg-color: #3B4455;\n",
              "      --fill-color: #D2E3FC;\n",
              "      --hover-bg-color: #434B5C;\n",
              "      --hover-fill-color: #FFFFFF;\n",
              "      --disabled-bg-color: #3B4455;\n",
              "      --disabled-fill-color: #666;\n",
              "  }\n",
              "\n",
              "  .colab-df-quickchart {\n",
              "    background-color: var(--bg-color);\n",
              "    border: none;\n",
              "    border-radius: 50%;\n",
              "    cursor: pointer;\n",
              "    display: none;\n",
              "    fill: var(--fill-color);\n",
              "    height: 32px;\n",
              "    padding: 0;\n",
              "    width: 32px;\n",
              "  }\n",
              "\n",
              "  .colab-df-quickchart:hover {\n",
              "    background-color: var(--hover-bg-color);\n",
              "    box-shadow: 0 1px 2px rgba(60, 64, 67, 0.3), 0 1px 3px 1px rgba(60, 64, 67, 0.15);\n",
              "    fill: var(--button-hover-fill-color);\n",
              "  }\n",
              "\n",
              "  .colab-df-quickchart-complete:disabled,\n",
              "  .colab-df-quickchart-complete:disabled:hover {\n",
              "    background-color: var(--disabled-bg-color);\n",
              "    fill: var(--disabled-fill-color);\n",
              "    box-shadow: none;\n",
              "  }\n",
              "\n",
              "  .colab-df-spinner {\n",
              "    border: 2px solid var(--fill-color);\n",
              "    border-color: transparent;\n",
              "    border-bottom-color: var(--fill-color);\n",
              "    animation:\n",
              "      spin 1s steps(1) infinite;\n",
              "  }\n",
              "\n",
              "  @keyframes spin {\n",
              "    0% {\n",
              "      border-color: transparent;\n",
              "      border-bottom-color: var(--fill-color);\n",
              "      border-left-color: var(--fill-color);\n",
              "    }\n",
              "    20% {\n",
              "      border-color: transparent;\n",
              "      border-left-color: var(--fill-color);\n",
              "      border-top-color: var(--fill-color);\n",
              "    }\n",
              "    30% {\n",
              "      border-color: transparent;\n",
              "      border-left-color: var(--fill-color);\n",
              "      border-top-color: var(--fill-color);\n",
              "      border-right-color: var(--fill-color);\n",
              "    }\n",
              "    40% {\n",
              "      border-color: transparent;\n",
              "      border-right-color: var(--fill-color);\n",
              "      border-top-color: var(--fill-color);\n",
              "    }\n",
              "    60% {\n",
              "      border-color: transparent;\n",
              "      border-right-color: var(--fill-color);\n",
              "    }\n",
              "    80% {\n",
              "      border-color: transparent;\n",
              "      border-right-color: var(--fill-color);\n",
              "      border-bottom-color: var(--fill-color);\n",
              "    }\n",
              "    90% {\n",
              "      border-color: transparent;\n",
              "      border-bottom-color: var(--fill-color);\n",
              "    }\n",
              "  }\n",
              "</style>\n",
              "\n",
              "  <script>\n",
              "    async function quickchart(key) {\n",
              "      const quickchartButtonEl =\n",
              "        document.querySelector('#' + key + ' button');\n",
              "      quickchartButtonEl.disabled = true;  // To prevent multiple clicks.\n",
              "      quickchartButtonEl.classList.add('colab-df-spinner');\n",
              "      try {\n",
              "        const charts = await google.colab.kernel.invokeFunction(\n",
              "            'suggestCharts', [key], {});\n",
              "      } catch (error) {\n",
              "        console.error('Error during call to suggestCharts:', error);\n",
              "      }\n",
              "      quickchartButtonEl.classList.remove('colab-df-spinner');\n",
              "      quickchartButtonEl.classList.add('colab-df-quickchart-complete');\n",
              "    }\n",
              "    (() => {\n",
              "      let quickchartButtonEl =\n",
              "        document.querySelector('#df-e360344a-f3b9-4546-ae21-e895598b0cc9 button');\n",
              "      quickchartButtonEl.style.display =\n",
              "        google.colab.kernel.accessAllowed ? 'block' : 'none';\n",
              "    })();\n",
              "  </script>\n",
              "</div>\n",
              "\n",
              "    </div>\n",
              "  </div>\n"
            ],
            "application/vnd.google.colaboratory.intrinsic+json": {
              "type": "dataframe",
              "summary": "{\n  \"name\": \"dataframe\",\n  \"rows\": 8,\n  \"fields\": [\n    {\n      \"column\": \"Age\",\n      \"properties\": {\n        \"dtype\": \"number\",\n        \"std\": 13.312066788198885,\n        \"min\": 4.0,\n        \"max\": 45.0,\n        \"num_unique_values\": 8,\n        \"samples\": [\n          31.75,\n          29.0,\n          4.0\n        ],\n        \"semantic_type\": \"\",\n        \"description\": \"\"\n      }\n    }\n  ]\n}"
            }
          },
          "metadata": {},
          "execution_count": 40
        }
      ]
    },
    {
      "cell_type": "markdown",
      "source": [
        "We can read in and, write out data using Pandas which is handy if we already have our raw data that we wish to analyse. Lets explore that with the dataframe we already have."
      ],
      "metadata": {
        "id": "S6jI5obpiER_"
      }
    },
    {
      "cell_type": "code",
      "source": [
        "# write dataframe to csv\n",
        "dataframe.to_csv(\"people.csv\", index=None)\n",
        "\n",
        "people_df = pd.read_csv(\"people.csv\")\n",
        "\n",
        "people_df"
      ],
      "metadata": {
        "colab": {
          "base_uri": "https://localhost:8080/",
          "height": 173
        },
        "id": "RFJq-SbcjQa_",
        "outputId": "5834fcca-04f7-442a-c239-9be648a88013"
      },
      "execution_count": null,
      "outputs": [
        {
          "output_type": "execute_result",
          "data": {
            "text/plain": [
              "     Name  Age     Sex\n",
              "0     Ben   31    male\n",
              "1     Tom   24    male\n",
              "2    Luke   45    male\n",
              "3  Hannah   27  female"
            ],
            "text/html": [
              "\n",
              "  <div id=\"df-8bb43b78-eb48-416e-96f5-d05e4f2c38ba\" class=\"colab-df-container\">\n",
              "    <div>\n",
              "<style scoped>\n",
              "    .dataframe tbody tr th:only-of-type {\n",
              "        vertical-align: middle;\n",
              "    }\n",
              "\n",
              "    .dataframe tbody tr th {\n",
              "        vertical-align: top;\n",
              "    }\n",
              "\n",
              "    .dataframe thead th {\n",
              "        text-align: right;\n",
              "    }\n",
              "</style>\n",
              "<table border=\"1\" class=\"dataframe\">\n",
              "  <thead>\n",
              "    <tr style=\"text-align: right;\">\n",
              "      <th></th>\n",
              "      <th>Name</th>\n",
              "      <th>Age</th>\n",
              "      <th>Sex</th>\n",
              "    </tr>\n",
              "  </thead>\n",
              "  <tbody>\n",
              "    <tr>\n",
              "      <th>0</th>\n",
              "      <td>Ben</td>\n",
              "      <td>31</td>\n",
              "      <td>male</td>\n",
              "    </tr>\n",
              "    <tr>\n",
              "      <th>1</th>\n",
              "      <td>Tom</td>\n",
              "      <td>24</td>\n",
              "      <td>male</td>\n",
              "    </tr>\n",
              "    <tr>\n",
              "      <th>2</th>\n",
              "      <td>Luke</td>\n",
              "      <td>45</td>\n",
              "      <td>male</td>\n",
              "    </tr>\n",
              "    <tr>\n",
              "      <th>3</th>\n",
              "      <td>Hannah</td>\n",
              "      <td>27</td>\n",
              "      <td>female</td>\n",
              "    </tr>\n",
              "  </tbody>\n",
              "</table>\n",
              "</div>\n",
              "    <div class=\"colab-df-buttons\">\n",
              "\n",
              "  <div class=\"colab-df-container\">\n",
              "    <button class=\"colab-df-convert\" onclick=\"convertToInteractive('df-8bb43b78-eb48-416e-96f5-d05e4f2c38ba')\"\n",
              "            title=\"Convert this dataframe to an interactive table.\"\n",
              "            style=\"display:none;\">\n",
              "\n",
              "  <svg xmlns=\"http://www.w3.org/2000/svg\" height=\"24px\" viewBox=\"0 -960 960 960\">\n",
              "    <path d=\"M120-120v-720h720v720H120Zm60-500h600v-160H180v160Zm220 220h160v-160H400v160Zm0 220h160v-160H400v160ZM180-400h160v-160H180v160Zm440 0h160v-160H620v160ZM180-180h160v-160H180v160Zm440 0h160v-160H620v160Z\"/>\n",
              "  </svg>\n",
              "    </button>\n",
              "\n",
              "  <style>\n",
              "    .colab-df-container {\n",
              "      display:flex;\n",
              "      gap: 12px;\n",
              "    }\n",
              "\n",
              "    .colab-df-convert {\n",
              "      background-color: #E8F0FE;\n",
              "      border: none;\n",
              "      border-radius: 50%;\n",
              "      cursor: pointer;\n",
              "      display: none;\n",
              "      fill: #1967D2;\n",
              "      height: 32px;\n",
              "      padding: 0 0 0 0;\n",
              "      width: 32px;\n",
              "    }\n",
              "\n",
              "    .colab-df-convert:hover {\n",
              "      background-color: #E2EBFA;\n",
              "      box-shadow: 0px 1px 2px rgba(60, 64, 67, 0.3), 0px 1px 3px 1px rgba(60, 64, 67, 0.15);\n",
              "      fill: #174EA6;\n",
              "    }\n",
              "\n",
              "    .colab-df-buttons div {\n",
              "      margin-bottom: 4px;\n",
              "    }\n",
              "\n",
              "    [theme=dark] .colab-df-convert {\n",
              "      background-color: #3B4455;\n",
              "      fill: #D2E3FC;\n",
              "    }\n",
              "\n",
              "    [theme=dark] .colab-df-convert:hover {\n",
              "      background-color: #434B5C;\n",
              "      box-shadow: 0px 1px 3px 1px rgba(0, 0, 0, 0.15);\n",
              "      filter: drop-shadow(0px 1px 2px rgba(0, 0, 0, 0.3));\n",
              "      fill: #FFFFFF;\n",
              "    }\n",
              "  </style>\n",
              "\n",
              "    <script>\n",
              "      const buttonEl =\n",
              "        document.querySelector('#df-8bb43b78-eb48-416e-96f5-d05e4f2c38ba button.colab-df-convert');\n",
              "      buttonEl.style.display =\n",
              "        google.colab.kernel.accessAllowed ? 'block' : 'none';\n",
              "\n",
              "      async function convertToInteractive(key) {\n",
              "        const element = document.querySelector('#df-8bb43b78-eb48-416e-96f5-d05e4f2c38ba');\n",
              "        const dataTable =\n",
              "          await google.colab.kernel.invokeFunction('convertToInteractive',\n",
              "                                                    [key], {});\n",
              "        if (!dataTable) return;\n",
              "\n",
              "        const docLinkHtml = 'Like what you see? Visit the ' +\n",
              "          '<a target=\"_blank\" href=https://colab.research.google.com/notebooks/data_table.ipynb>data table notebook</a>'\n",
              "          + ' to learn more about interactive tables.';\n",
              "        element.innerHTML = '';\n",
              "        dataTable['output_type'] = 'display_data';\n",
              "        await google.colab.output.renderOutput(dataTable, element);\n",
              "        const docLink = document.createElement('div');\n",
              "        docLink.innerHTML = docLinkHtml;\n",
              "        element.appendChild(docLink);\n",
              "      }\n",
              "    </script>\n",
              "  </div>\n",
              "\n",
              "\n",
              "<div id=\"df-1dc99125-a30a-48e1-902f-f1710d834e85\">\n",
              "  <button class=\"colab-df-quickchart\" onclick=\"quickchart('df-1dc99125-a30a-48e1-902f-f1710d834e85')\"\n",
              "            title=\"Suggest charts\"\n",
              "            style=\"display:none;\">\n",
              "\n",
              "<svg xmlns=\"http://www.w3.org/2000/svg\" height=\"24px\"viewBox=\"0 0 24 24\"\n",
              "     width=\"24px\">\n",
              "    <g>\n",
              "        <path d=\"M19 3H5c-1.1 0-2 .9-2 2v14c0 1.1.9 2 2 2h14c1.1 0 2-.9 2-2V5c0-1.1-.9-2-2-2zM9 17H7v-7h2v7zm4 0h-2V7h2v10zm4 0h-2v-4h2v4z\"/>\n",
              "    </g>\n",
              "</svg>\n",
              "  </button>\n",
              "\n",
              "<style>\n",
              "  .colab-df-quickchart {\n",
              "      --bg-color: #E8F0FE;\n",
              "      --fill-color: #1967D2;\n",
              "      --hover-bg-color: #E2EBFA;\n",
              "      --hover-fill-color: #174EA6;\n",
              "      --disabled-fill-color: #AAA;\n",
              "      --disabled-bg-color: #DDD;\n",
              "  }\n",
              "\n",
              "  [theme=dark] .colab-df-quickchart {\n",
              "      --bg-color: #3B4455;\n",
              "      --fill-color: #D2E3FC;\n",
              "      --hover-bg-color: #434B5C;\n",
              "      --hover-fill-color: #FFFFFF;\n",
              "      --disabled-bg-color: #3B4455;\n",
              "      --disabled-fill-color: #666;\n",
              "  }\n",
              "\n",
              "  .colab-df-quickchart {\n",
              "    background-color: var(--bg-color);\n",
              "    border: none;\n",
              "    border-radius: 50%;\n",
              "    cursor: pointer;\n",
              "    display: none;\n",
              "    fill: var(--fill-color);\n",
              "    height: 32px;\n",
              "    padding: 0;\n",
              "    width: 32px;\n",
              "  }\n",
              "\n",
              "  .colab-df-quickchart:hover {\n",
              "    background-color: var(--hover-bg-color);\n",
              "    box-shadow: 0 1px 2px rgba(60, 64, 67, 0.3), 0 1px 3px 1px rgba(60, 64, 67, 0.15);\n",
              "    fill: var(--button-hover-fill-color);\n",
              "  }\n",
              "\n",
              "  .colab-df-quickchart-complete:disabled,\n",
              "  .colab-df-quickchart-complete:disabled:hover {\n",
              "    background-color: var(--disabled-bg-color);\n",
              "    fill: var(--disabled-fill-color);\n",
              "    box-shadow: none;\n",
              "  }\n",
              "\n",
              "  .colab-df-spinner {\n",
              "    border: 2px solid var(--fill-color);\n",
              "    border-color: transparent;\n",
              "    border-bottom-color: var(--fill-color);\n",
              "    animation:\n",
              "      spin 1s steps(1) infinite;\n",
              "  }\n",
              "\n",
              "  @keyframes spin {\n",
              "    0% {\n",
              "      border-color: transparent;\n",
              "      border-bottom-color: var(--fill-color);\n",
              "      border-left-color: var(--fill-color);\n",
              "    }\n",
              "    20% {\n",
              "      border-color: transparent;\n",
              "      border-left-color: var(--fill-color);\n",
              "      border-top-color: var(--fill-color);\n",
              "    }\n",
              "    30% {\n",
              "      border-color: transparent;\n",
              "      border-left-color: var(--fill-color);\n",
              "      border-top-color: var(--fill-color);\n",
              "      border-right-color: var(--fill-color);\n",
              "    }\n",
              "    40% {\n",
              "      border-color: transparent;\n",
              "      border-right-color: var(--fill-color);\n",
              "      border-top-color: var(--fill-color);\n",
              "    }\n",
              "    60% {\n",
              "      border-color: transparent;\n",
              "      border-right-color: var(--fill-color);\n",
              "    }\n",
              "    80% {\n",
              "      border-color: transparent;\n",
              "      border-right-color: var(--fill-color);\n",
              "      border-bottom-color: var(--fill-color);\n",
              "    }\n",
              "    90% {\n",
              "      border-color: transparent;\n",
              "      border-bottom-color: var(--fill-color);\n",
              "    }\n",
              "  }\n",
              "</style>\n",
              "\n",
              "  <script>\n",
              "    async function quickchart(key) {\n",
              "      const quickchartButtonEl =\n",
              "        document.querySelector('#' + key + ' button');\n",
              "      quickchartButtonEl.disabled = true;  // To prevent multiple clicks.\n",
              "      quickchartButtonEl.classList.add('colab-df-spinner');\n",
              "      try {\n",
              "        const charts = await google.colab.kernel.invokeFunction(\n",
              "            'suggestCharts', [key], {});\n",
              "      } catch (error) {\n",
              "        console.error('Error during call to suggestCharts:', error);\n",
              "      }\n",
              "      quickchartButtonEl.classList.remove('colab-df-spinner');\n",
              "      quickchartButtonEl.classList.add('colab-df-quickchart-complete');\n",
              "    }\n",
              "    (() => {\n",
              "      let quickchartButtonEl =\n",
              "        document.querySelector('#df-1dc99125-a30a-48e1-902f-f1710d834e85 button');\n",
              "      quickchartButtonEl.style.display =\n",
              "        google.colab.kernel.accessAllowed ? 'block' : 'none';\n",
              "    })();\n",
              "  </script>\n",
              "</div>\n",
              "\n",
              "  <div id=\"id_cb941c48-500c-4b47-a001-6b68552cb0bf\">\n",
              "    <style>\n",
              "      .colab-df-generate {\n",
              "        background-color: #E8F0FE;\n",
              "        border: none;\n",
              "        border-radius: 50%;\n",
              "        cursor: pointer;\n",
              "        display: none;\n",
              "        fill: #1967D2;\n",
              "        height: 32px;\n",
              "        padding: 0 0 0 0;\n",
              "        width: 32px;\n",
              "      }\n",
              "\n",
              "      .colab-df-generate:hover {\n",
              "        background-color: #E2EBFA;\n",
              "        box-shadow: 0px 1px 2px rgba(60, 64, 67, 0.3), 0px 1px 3px 1px rgba(60, 64, 67, 0.15);\n",
              "        fill: #174EA6;\n",
              "      }\n",
              "\n",
              "      [theme=dark] .colab-df-generate {\n",
              "        background-color: #3B4455;\n",
              "        fill: #D2E3FC;\n",
              "      }\n",
              "\n",
              "      [theme=dark] .colab-df-generate:hover {\n",
              "        background-color: #434B5C;\n",
              "        box-shadow: 0px 1px 3px 1px rgba(0, 0, 0, 0.15);\n",
              "        filter: drop-shadow(0px 1px 2px rgba(0, 0, 0, 0.3));\n",
              "        fill: #FFFFFF;\n",
              "      }\n",
              "    </style>\n",
              "    <button class=\"colab-df-generate\" onclick=\"generateWithVariable('people_df')\"\n",
              "            title=\"Generate code using this dataframe.\"\n",
              "            style=\"display:none;\">\n",
              "\n",
              "  <svg xmlns=\"http://www.w3.org/2000/svg\" height=\"24px\"viewBox=\"0 0 24 24\"\n",
              "       width=\"24px\">\n",
              "    <path d=\"M7,19H8.4L18.45,9,17,7.55,7,17.6ZM5,21V16.75L18.45,3.32a2,2,0,0,1,2.83,0l1.4,1.43a1.91,1.91,0,0,1,.58,1.4,1.91,1.91,0,0,1-.58,1.4L9.25,21ZM18.45,9,17,7.55Zm-12,3A5.31,5.31,0,0,0,4.9,8.1,5.31,5.31,0,0,0,1,6.5,5.31,5.31,0,0,0,4.9,4.9,5.31,5.31,0,0,0,6.5,1,5.31,5.31,0,0,0,8.1,4.9,5.31,5.31,0,0,0,12,6.5,5.46,5.46,0,0,0,6.5,12Z\"/>\n",
              "  </svg>\n",
              "    </button>\n",
              "    <script>\n",
              "      (() => {\n",
              "      const buttonEl =\n",
              "        document.querySelector('#id_cb941c48-500c-4b47-a001-6b68552cb0bf button.colab-df-generate');\n",
              "      buttonEl.style.display =\n",
              "        google.colab.kernel.accessAllowed ? 'block' : 'none';\n",
              "\n",
              "      buttonEl.onclick = () => {\n",
              "        google.colab.notebook.generateWithVariable('people_df');\n",
              "      }\n",
              "      })();\n",
              "    </script>\n",
              "  </div>\n",
              "\n",
              "    </div>\n",
              "  </div>\n"
            ],
            "application/vnd.google.colaboratory.intrinsic+json": {
              "type": "dataframe",
              "variable_name": "people_df",
              "summary": "{\n  \"name\": \"people_df\",\n  \"rows\": 4,\n  \"fields\": [\n    {\n      \"column\": \"Name\",\n      \"properties\": {\n        \"dtype\": \"string\",\n        \"num_unique_values\": 4,\n        \"samples\": [\n          \"Tom\",\n          \"Hannah\",\n          \"Ben\"\n        ],\n        \"semantic_type\": \"\",\n        \"description\": \"\"\n      }\n    },\n    {\n      \"column\": \"Age\",\n      \"properties\": {\n        \"dtype\": \"number\",\n        \"std\": 9,\n        \"min\": 24,\n        \"max\": 45,\n        \"num_unique_values\": 4,\n        \"samples\": [\n          24,\n          27,\n          31\n        ],\n        \"semantic_type\": \"\",\n        \"description\": \"\"\n      }\n    },\n    {\n      \"column\": \"Sex\",\n      \"properties\": {\n        \"dtype\": \"string\",\n        \"num_unique_values\": 2,\n        \"samples\": [\n          \"female\",\n          \"male\"\n        ],\n        \"semantic_type\": \"\",\n        \"description\": \"\"\n      }\n    }\n  ]\n}"
            }
          },
          "metadata": {},
          "execution_count": 38
        }
      ]
    },
    {
      "cell_type": "markdown",
      "source": [
        "We'll come back to Pandas DataFrames a little bit later on. Let's have a quick exercise to consolidate what we've just learned."
      ],
      "metadata": {
        "id": "JkxPEfqGktPA"
      }
    },
    {
      "cell_type": "code",
      "source": [
        "## EXERCISE\n",
        "# Read in the people.csv as a Pandas dataframe\n",
        "people_df = pd.read_csv(\"people.csv\")\n",
        "\n",
        "# add a new column to the dataframe called salary which contains 4 values 45000, 50000, 50000, 60000\n",
        "# hint think about how we added a new key:value pair to a dictionary\n",
        "people_df['salary'] = [45000, 50000, 50000, 60000]\n",
        "\n",
        "# Using the function sum(), calculate the sum of the new salary column\n",
        "people_df['salary'].sum()"
      ],
      "metadata": {
        "colab": {
          "base_uri": "https://localhost:8080/"
        },
        "id": "pScu52PIlofm",
        "outputId": "f6c77ca1-e556-4b1b-c696-fe18a86eb984"
      },
      "execution_count": null,
      "outputs": [
        {
          "output_type": "execute_result",
          "data": {
            "text/plain": [
              "205000"
            ]
          },
          "metadata": {},
          "execution_count": 42
        }
      ]
    },
    {
      "cell_type": "markdown",
      "metadata": {
        "id": "MSltTkoXhzyr"
      },
      "source": [
        "## Recap\n",
        "- we have stored values in a variable\n",
        "- we have printed things along the way\n",
        "- we have seen different data types\n",
        "  - `int` (integer), `float` (floating-point number), `str` (string),\n",
        "  -  `list` (list), `dict` (dictionary),\n",
        "  -  `pd.DataFrame` (pandas DataFrame)\n",
        "\n",
        "## Next\n",
        "- we will cover big concepts in a very short time frame"
      ]
    },
    {
      "cell_type": "markdown",
      "metadata": {
        "id": "cvcLpgPPhzyr"
      },
      "source": [
        "# \"Quick shots\"\n",
        "\n",
        "- we don't expect you to understand everything\n",
        "- this is fine\n",
        "- these concepts are very powerful (and fundamental)\n",
        "- so let's spend 5min to rapidly go through them\n",
        "\n",
        "## Topics\n",
        "- conditional (=*if statements*)\n",
        "- repetitions (loops)\n",
        "- functions\n",
        "\n",
        "We use this structure to investigate these concepts:\n",
        "\n",
        "- Q1 What does it **do**\n",
        "- Q2 How does it **work**\n",
        "- Q3 How does that **look in code**\n",
        "\n",
        "## Conditional (=*if statements*)\n",
        "\n",
        "### Q1 What does it do\n",
        "- it gives us **options**\n",
        "- you can think of it as a decision tree\n",
        "\n",
        "### Q2 How does it work\n",
        "- you define a **condition**\n",
        "\t- if it is met, something is done\n",
        "\t- if not, something else is done\n",
        "\t- (it can get more complex, but that should suffice for now)\n",
        "\t- there is also Boolean Logic (0 = false, 1 = true) and maths invovled, bit again: out of scope\n",
        "\n",
        "### Q3 How does that look in code"
      ]
    },
    {
      "cell_type": "code",
      "execution_count": null,
      "metadata": {
        "id": "rfg1o_y4hzys",
        "colab": {
          "base_uri": "https://localhost:8080/"
        },
        "outputId": "b680abd9-dbee-4fd2-d4bd-2b0016f0e5b9"
      },
      "outputs": [
        {
          "output_type": "stream",
          "name": "stdout",
          "text": [
            "30 is less than 100\n"
          ]
        }
      ],
      "source": [
        "# Example 1 if-statement: To check if a number is greater than 50\n",
        "# define a number\n",
        "num = 30\n",
        "\n",
        "if num > 100:\n",
        "  print(f\"{num} is greater than 100\")\n",
        "else:\n",
        "  print(f\"{num} is less than 100\")"
      ]
    },
    {
      "cell_type": "markdown",
      "source": [
        "We can also chain together checks using `elif` which stands for `else if`. For example we can check if a number is positive, negative or zero"
      ],
      "metadata": {
        "id": "K1oY7EgZpJ_B"
      }
    },
    {
      "cell_type": "code",
      "source": [
        "num = 0\n",
        "\n",
        "if num > 0:\n",
        "  print(num, \"is positive\")\n",
        "elif num == 0:\n",
        "  print(num, \"is zero\")\n",
        "else:\n",
        "  print(num, \"is negative\")"
      ],
      "metadata": {
        "colab": {
          "base_uri": "https://localhost:8080/"
        },
        "id": "Kb4THmP9plRo",
        "outputId": "c11bfb16-eead-4a97-9669-4c40d4f42e21"
      },
      "execution_count": null,
      "outputs": [
        {
          "output_type": "stream",
          "name": "stdout",
          "text": [
            "0 is zero\n"
          ]
        }
      ]
    },
    {
      "cell_type": "markdown",
      "source": [
        "We can also use `and`, `or`in conditional statements."
      ],
      "metadata": {
        "id": "z6dwreWIkQht"
      }
    },
    {
      "cell_type": "code",
      "source": [
        "a = 8\n",
        "b = 11\n",
        "c = 7\n",
        "\n",
        "# check if a is greater than b but less than c using and\n",
        "if a > b and a < c:\n",
        "  print(f\"{a} is indeed greater than {b}, but less than {c}\")\n",
        "else:\n",
        "  print(\"computer says no.\")\n",
        "\n",
        "# check if a is greater than b or less than c\n",
        "if a > b or a < c:\n",
        "  print(f\"{a} is either greater than {b} or less than {c}\")\n",
        "else:\n",
        "  print(f\"{a} is none of those things\")"
      ],
      "metadata": {
        "id": "fvyFShk7k4_b",
        "outputId": "eec82eb4-532f-4fbb-cba5-518544e9f694",
        "colab": {
          "base_uri": "https://localhost:8080/"
        }
      },
      "execution_count": 8,
      "outputs": [
        {
          "output_type": "stream",
          "name": "stdout",
          "text": [
            "computer says no.\n",
            "8 is none of those things\n"
          ]
        }
      ]
    },
    {
      "cell_type": "markdown",
      "source": [
        "To conclude conditionals we can also add `not` and also use `in` to see if . This can be handy if we might be looking for a certain element contained in a list or string. Ultimately this is propped up by boolean logic, where our condition is either met (`True`) or not met (`False`). This ties in nicely to the next section, where we'll take a look at other ways `in` is used in Python to iterate over elements in a list.  "
      ],
      "metadata": {
        "id": "2aCjjNzSnIYP"
      }
    },
    {
      "cell_type": "code",
      "source": [
        "if not a < b:\n",
        "  print(f\"{a} is not less than {b}\")\n",
        "else:\n",
        "  print(f\"{a} must be less than {b}\")\n",
        "\n",
        "if \"Dan\" in \"Benedict\":\n",
        "  print(True)\n",
        "else:\n",
        "  print(False)\n",
        "\n",
        "if 10 in [7,8,9,11]:\n",
        "  print(True)\n",
        "else:\n",
        "  print(False)"
      ],
      "metadata": {
        "id": "65m-APm2k5XF",
        "outputId": "e807d64a-1b85-4634-d690-cdc008adc843",
        "colab": {
          "base_uri": "https://localhost:8080/"
        }
      },
      "execution_count": 22,
      "outputs": [
        {
          "output_type": "stream",
          "name": "stdout",
          "text": [
            "8 must be less than 11\n",
            "False\n",
            "False\n"
          ]
        }
      ]
    },
    {
      "cell_type": "markdown",
      "source": [
        "Along with the > and == operators we have already used for comparing values in our conditionals, there are a few more options to know about:\n",
        "\n",
        " - `>`: greater than\n",
        " - `<`: less than\n",
        " - `==`: equal to\n",
        " - `!=`: does not equal\n",
        " - `>=`: greater than or equal to\n",
        " - `<=`: less than or equal to"
      ],
      "metadata": {
        "id": "MiJPfVdxu0cK"
      }
    },
    {
      "cell_type": "markdown",
      "metadata": {
        "id": "WbPlFDFFhzys"
      },
      "source": [
        "## Repetitions (=*loops*)\n",
        "\n",
        "### Q1 What does it do\n",
        "- this prevents you from having to write or repeatedly execute code\n",
        "- you define a condition and as long as it is met, a certain piece of code (a code block, a cell,...) is executed until the condition isn't met anymore (or another condition is met)\n",
        "\n",
        "### Q2 How does it work\n",
        "- we focus on the for loop\n",
        "- iteration/counters are more relevant in other languges; but the same idea applies to Python and might help you in generating an understanding\n",
        "- we write something like: for the time that something is met, go through the indented (pushed a bit to the right) parts of the code\n",
        "\n",
        "### Q3 How does that look in code\n",
        "- side-note: Pythonian is to write something like `for name in names` (singular ... plural) wheras other languages introduce a counter (often the iteration variable `i`) and you write something like `for i < 100`. How you call your counter is up to you! Be consistent! Make sure others (or future-you) can read and understand the code (that also applies to Code-Golf!)"
      ]
    },
    {
      "cell_type": "code",
      "execution_count": null,
      "metadata": {
        "id": "wQPF8cbGhzyt",
        "colab": {
          "base_uri": "https://localhost:8080/"
        },
        "outputId": "9825cc17-fbdd-4758-cb1d-554e55e95af0"
      },
      "outputs": [
        {
          "output_type": "stream",
          "name": "stdout",
          "text": [
            " processing 1\n",
            " processing 2\n",
            " processing 3\n",
            " processing 4\n",
            " processing 5\n",
            " processing 6\n",
            " processing 7\n",
            " processing 8\n",
            " processing 9\n"
          ]
        }
      ],
      "source": [
        "# Example 2: loops: Iterate over a list of numbers\n",
        "list_of_numbers = [1,2,3,4,5,6,7,8,9]\n",
        "\n",
        "for number in list_of_numbers:\n",
        "  print(f\" processing {number}\")"
      ]
    },
    {
      "cell_type": "code",
      "execution_count": null,
      "metadata": {
        "id": "uTrDGh_whzyt",
        "colab": {
          "base_uri": "https://localhost:8080/"
        },
        "outputId": "0be3b087-94bd-4673-f35d-0e4a5e8b12c2"
      },
      "outputs": [
        {
          "output_type": "stream",
          "name": "stdout",
          "text": [
            "There are 5 names in the list\n"
          ]
        }
      ],
      "source": [
        "# Example 2: loops: Iterate over a list of names and update a variable inside the loop\n",
        "length = 0\n",
        "names_list = [\"Doug\", \"Bella\", \"Tristan\", \"Joseph\", \"Fred\"]\n",
        "\n",
        "for value in names_list:\n",
        "  length = length + 1\n",
        "\n",
        "print(f\"There are {length} names in the list\")\n"
      ]
    },
    {
      "cell_type": "markdown",
      "metadata": {
        "id": "OquKyBnmhzyt"
      },
      "source": [
        "## Functions\n",
        "\n",
        "### Q1 What does it do\n",
        "- think of it as a variable on steroids\n",
        "- instead of putting a virtual PostIt on a value (for example the integer i = 42 or the string \"hello\"), you encapsulate code-fragments in a function\n",
        "\n",
        "### Q2 How does it work\n",
        "- so you define your function once and can call it several times. From within the code you are writing right now and from other code (another notebook, another py script,...).\n",
        "- We do that in essence, once we call a package's function (math.avg(var)) means: Go to the Math Package and get the instructions/code/cook-book-style-thingy needed to compute the average\n",
        "\n",
        "\n",
        "### Q3 How does that look in code\n",
        "- side-note OOP, [Magic Methods (=Dunder Methods)](https://youtu.be/1I3fuDR2S9A?si=WGxv06r_FM5R8Yut)\n",
        "$\\rightarrow$ We could expand on that probably for days; this leads to the Object Oriented Programming paradigm/a way of doing things. It is good if you can remember this term, but its not vital :)\n",
        "\n"
      ]
    },
    {
      "cell_type": "code",
      "execution_count": null,
      "metadata": {
        "id": "4NcbO1NZhzyt"
      },
      "outputs": [],
      "source": [
        "# Example 1: Functions: Add two numbers\n"
      ]
    },
    {
      "cell_type": "code",
      "execution_count": null,
      "metadata": {
        "id": "MeoZbxAeWkEn"
      },
      "outputs": [],
      "source": [
        "# Exercice 8\n",
        "# Write a function called check_number\n",
        "# It prints \"Positive\" if the number is positive\n",
        "# \"Negative\" if the number is negative\n",
        "# and \"Zero\" if the number is zero\n"
      ]
    },
    {
      "cell_type": "markdown",
      "metadata": {
        "id": "ASgW8YIFhzyu"
      },
      "source": [
        "## Applying a linear regression in Python 🧮\n",
        "- we use a mathematical function, e.g. `y = x^5` or `y = 0.4*x + 3`\n",
        "- we add some random **noise** to the data (fancy: Monte Carlo simulation🎲 $^1$)\n",
        "- we plot the data\n",
        "\n",
        "- We'll tie together the concepts we've learned to look at the relationship between some x and y variables that we'll create by defining a function that returns a y value given an x value.\n",
        "\n",
        "$^1$ Monte Carlo simulation is just a fancy way of using randomness and lots of tries to find out the chances of something happening, like picking a red candy from a huge jar. Scientists and mathematicians use this method to solve problems that are too tricky to figure out with just a few calculations."
      ]
    },
    {
      "cell_type": "markdown",
      "metadata": {
        "id": "4K1PB1IIhzyu"
      },
      "source": [
        "# Option A: The Math problem 🧮"
      ]
    },
    {
      "cell_type": "markdown",
      "metadata": {
        "id": "2k_XB7g_hzyu"
      },
      "source": [
        "### A1: Using a function to create a distribution and fit a linear regression with matplotlib and scipy\n",
        "\n",
        "When analysing data, we often attempt to find relationships between dependant and independant variables. A common statistical method to identify such a relationship is linear regression analysis. We'll learn how to apply linear regression in Python, producing a scatter plot of some x/y values. In this case we'll use a mathematical function to generate the y values when given x values."
      ]
    },
    {
      "cell_type": "markdown",
      "source": [
        "We'll start by creating some x data, a means of adding some noise to our data and then generating y values using the linear function `y = 0.4*x + 3 + noise`"
      ],
      "metadata": {
        "id": "m5cuHArj4ZWE"
      }
    },
    {
      "cell_type": "code",
      "execution_count": null,
      "metadata": {
        "id": "jrTwzLVJut7i"
      },
      "outputs": [],
      "source": [
        "import pandas as pd\n",
        "import numpy as np\n",
        "import matplotlib.pyplot as plt\n",
        "from scipy import stats\n",
        "\n",
        "# Generate 100 x-values\n",
        "x_values = np.arange(100)\n",
        "\n",
        "#  add some noise\n",
        "noise = np.random.uniform(-10,10, size=(100,))\n",
        "\n",
        "\n",
        "# function to generate y values using the linear function y = 0.4*x + 3 + delta\n",
        "def f(x):\n",
        "  return 0.4 * x + 3 + noise\n",
        "\n",
        "# y_values\n",
        "y_values = f(x_values)\n",
        "\n",
        "#print(f\"X: {x_values} and Y {y_values}\")"
      ]
    },
    {
      "cell_type": "markdown",
      "source": [
        "Lets plot X and Y as a scatter to visualise the data"
      ],
      "metadata": {
        "id": "keX6F1Be5c4p"
      }
    },
    {
      "cell_type": "code",
      "execution_count": null,
      "metadata": {
        "id": "LOskSv2tut7j",
        "colab": {
          "base_uri": "https://localhost:8080/",
          "height": 447
        },
        "outputId": "7da61c99-3248-4ff1-ce77-855d5088cb01"
      },
      "outputs": [
        {
          "output_type": "execute_result",
          "data": {
            "text/plain": [
              "<matplotlib.collections.PathCollection at 0x7cc734a9d210>"
            ]
          },
          "metadata": {},
          "execution_count": 7
        },
        {
          "output_type": "display_data",
          "data": {
            "text/plain": [
              "<Figure size 640x480 with 1 Axes>"
            ],
            "image/png": "[encoded data removed]"
          },
          "metadata": {}
        }
      ],
      "source": [
        "# Plot the scatterplot\n",
        "plt.scatter(x_values, y_values, label=\"Data points\", color=\"blue\")"
      ]
    },
    {
      "cell_type": "code",
      "execution_count": null,
      "metadata": {
        "id": "chX3Y-fCut7j",
        "colab": {
          "base_uri": "https://localhost:8080/",
          "height": 489
        },
        "outputId": "69a785ea-c295-4ae2-f994-db586bd2fbc0"
      },
      "outputs": [
        {
          "output_type": "display_data",
          "data": {
            "text/plain": [
              "<Figure size 640x480 with 1 Axes>"
            ],
            "image/png": "[encoded data removed]"
          },
          "metadata": {}
        },
        {
          "output_type": "stream",
          "name": "stdout",
          "text": [
            "slope: 0.4282326582807229, intercept: 1.0564203860311814\n"
          ]
        }
      ],
      "source": [
        "# Calculate the linear regression\n",
        "regression = stats.linregress(x_values, y_values)\n",
        "\n",
        "# Create the regression line\n",
        "line_of_fit = regression.slope * x_values + regression.intercept\n",
        "\n",
        "# Plot the scatterplot\n",
        "plt.scatter(x_values, y_values, label=\"Data points\", color=\"blue\")\n",
        "plt.plot(x_values, line_of_fit, label=\"Regression line\", color=\"red\")\n",
        "\n",
        "# Add labels and title\n",
        "plt.xlabel(\"X values\")\n",
        "plt.ylabel(\"Y values\")\n",
        "plt.title(\"Scatter plot with linear regression fit\")\n",
        "\n",
        "# Show the plot\n",
        "plt.legend()\n",
        "plt.show()\n",
        "\n",
        "# print slope and intercept\n",
        "print(f\"slope: {regression.slope}, intercept: {regression.intercept}\")"
      ]
    },
    {
      "cell_type": "markdown",
      "source": [
        " What if we had multiple files containing data and we wanted to see if there is a relationship between X and Y values stored in these different file. We'll tie together what we've learned, incorporate a new library and tool and use DataFrames to create a script to generate a scatter plot and calculate a linear regression of each of these files.\n",
        "\n",
        " First we need to download the data. Do to this, were going to use some magic commands directly in our code.   "
      ],
      "metadata": {
        "id": "vCf1EyUO-0Sk"
      }
    },
    {
      "cell_type": "code",
      "source": [
        "# use wget to download folder containing the csv_files and unzip the folder\n",
        "!wget https://github.com/bmcollings/ResBazPython/raw/main/csv_files.zip\n",
        "!unzip csv_files.zip"
      ],
      "metadata": {
        "colab": {
          "base_uri": "https://localhost:8080/"
        },
        "id": "UAGSp0Ijy-uM",
        "outputId": "b5596214-546a-4f94-ffa5-80ad442f1af6"
      },
      "execution_count": null,
      "outputs": [
        {
          "output_type": "stream",
          "name": "stdout",
          "text": [
            "--2024-07-24 23:12:33--  https://github.com/bmcollings/ResBazPython/raw/main/csv_files.zip\n",
            "Resolving github.com (github.com)... 140.82.114.4\n",
            "Connecting to github.com (github.com)|140.82.114.4|:443... connected.\n",
            "HTTP request sent, awaiting response... 302 Found\n",
            "Location: https://raw.githubusercontent.com/bmcollings/ResBazPython/main/csv_files.zip [following]\n",
            "--2024-07-24 23:12:33--  https://raw.githubusercontent.com/bmcollings/ResBazPython/main/csv_files.zip\n",
            "Resolving raw.githubusercontent.com (raw.githubusercontent.com)... 185.199.108.133, 185.199.109.133, 185.199.110.133, ...\n",
            "Connecting to raw.githubusercontent.com (raw.githubusercontent.com)|185.199.108.133|:443... connected.\n",
            "HTTP request sent, awaiting response... 200 OK\n",
            "Length: 7508 (7.3K) [application/zip]\n",
            "Saving to: ‘csv_files.zip’\n",
            "\n",
            "csv_files.zip       100%[===================>]   7.33K  --.-KB/s    in 0s      \n",
            "\n",
            "2024-07-24 23:12:34 (50.8 MB/s) - ‘csv_files.zip’ saved [7508/7508]\n",
            "\n",
            "Archive:  csv_files.zip\n",
            "   creating: csv_files/\n",
            "  inflating: csv_files/3-linear-relationship.csv  \n",
            "  inflating: csv_files/4-linear-relationship.csv  \n",
            "  inflating: csv_files/0-linear-relationship.csv  \n",
            "  inflating: csv_files/2-linear-relationship.csv  \n",
            "  inflating: csv_files/1-linear-relationship.csv  \n"
          ]
        }
      ]
    },
    {
      "cell_type": "markdown",
      "source": [
        "Now we have the files we wish to process, we'll use a new tool called glob (short for global), which is useful for searching for file names that match a certain pattern. We'll use glob to return a list of the csv files we want to process."
      ],
      "metadata": {
        "id": "3YNCK-g__xb1"
      }
    },
    {
      "cell_type": "code",
      "source": [
        "import glob\n",
        "\n",
        "# return a list of files containing data\n",
        "csv_files = glob.glob(\"csv_files/*.csv\")\n",
        "print(csv_files)"
      ],
      "metadata": {
        "colab": {
          "base_uri": "https://localhost:8080/"
        },
        "id": "3GwHaYwf-nhE",
        "outputId": "67693e36-2d4a-4039-b7ec-c56f8588a11c"
      },
      "execution_count": null,
      "outputs": [
        {
          "output_type": "stream",
          "name": "stdout",
          "text": [
            "['csv_files/1-linear-relationship.csv', 'csv_files/4-linear-relationship.csv', 'csv_files/0-linear-relationship.csv', 'csv_files/2-linear-relationship.csv', 'csv_files/3-linear-relationship.csv']\n"
          ]
        }
      ]
    },
    {
      "cell_type": "markdown",
      "source": [
        "Let's use pandas to explore one of the files to see what were working with."
      ],
      "metadata": {
        "id": "llpuIsNGA3Lf"
      }
    },
    {
      "cell_type": "code",
      "source": [
        "# slice the first file from our list\n",
        "csv = csv_files[0]\n",
        "\n",
        "# read csv using pandas\n",
        "csv_df = pd.read_csv(csv, index_col=0)\n",
        "\n",
        "# investigate that dataframe using head()\n",
        "csv_df.head()"
      ],
      "metadata": {
        "colab": {
          "base_uri": "https://localhost:8080/",
          "height": 204
        },
        "id": "0p4UCyL9BBz_",
        "outputId": "7ca2da9d-0d29-4ff0-effe-e31ddc8c1b61"
      },
      "execution_count": null,
      "outputs": [
        {
          "output_type": "execute_result",
          "data": {
            "text/plain": [
              "   X-values   Y-values\n",
              "0         0   3.551175\n",
              "1         1   0.238573\n",
              "2         2  11.979640\n",
              "3         3  -4.892672\n",
              "4         4   9.883677"
            ],
            "text/html": [
              "\n",
              "  <div id=\"df-d288f1bb-0061-47cd-8841-7286980cc16f\" class=\"colab-df-container\">\n",
              "    <div>\n",
              "<style scoped>\n",
              "    .dataframe tbody tr th:only-of-type {\n",
              "        vertical-align: middle;\n",
              "    }\n",
              "\n",
              "    .dataframe tbody tr th {\n",
              "        vertical-align: top;\n",
              "    }\n",
              "\n",
              "    .dataframe thead th {\n",
              "        text-align: right;\n",
              "    }\n",
              "</style>\n",
              "<table border=\"1\" class=\"dataframe\">\n",
              "  <thead>\n",
              "    <tr style=\"text-align: right;\">\n",
              "      <th></th>\n",
              "      <th>X-values</th>\n",
              "      <th>Y-values</th>\n",
              "    </tr>\n",
              "  </thead>\n",
              "  <tbody>\n",
              "    <tr>\n",
              "      <th>0</th>\n",
              "      <td>0</td>\n",
              "      <td>3.551175</td>\n",
              "    </tr>\n",
              "    <tr>\n",
              "      <th>1</th>\n",
              "      <td>1</td>\n",
              "      <td>0.238573</td>\n",
              "    </tr>\n",
              "    <tr>\n",
              "      <th>2</th>\n",
              "      <td>2</td>\n",
              "      <td>11.979640</td>\n",
              "    </tr>\n",
              "    <tr>\n",
              "      <th>3</th>\n",
              "      <td>3</td>\n",
              "      <td>-4.892672</td>\n",
              "    </tr>\n",
              "    <tr>\n",
              "      <th>4</th>\n",
              "      <td>4</td>\n",
              "      <td>9.883677</td>\n",
              "    </tr>\n",
              "  </tbody>\n",
              "</table>\n",
              "</div>\n",
              "    <div class=\"colab-df-buttons\">\n",
              "\n",
              "  <div class=\"colab-df-container\">\n",
              "    <button class=\"colab-df-convert\" onclick=\"convertToInteractive('df-d288f1bb-0061-47cd-8841-7286980cc16f')\"\n",
              "            title=\"Convert this dataframe to an interactive table.\"\n",
              "            style=\"display:none;\">\n",
              "\n",
              "  <svg xmlns=\"http://www.w3.org/2000/svg\" height=\"24px\" viewBox=\"0 -960 960 960\">\n",
              "    <path d=\"M120-120v-720h720v720H120Zm60-500h600v-160H180v160Zm220 220h160v-160H400v160Zm0 220h160v-160H400v160ZM180-400h160v-160H180v160Zm440 0h160v-160H620v160ZM180-180h160v-160H180v160Zm440 0h160v-160H620v160Z\"/>\n",
              "  </svg>\n",
              "    </button>\n",
              "\n",
              "  <style>\n",
              "    .colab-df-container {\n",
              "      display:flex;\n",
              "      gap: 12px;\n",
              "    }\n",
              "\n",
              "    .colab-df-convert {\n",
              "      background-color: #E8F0FE;\n",
              "      border: none;\n",
              "      border-radius: 50%;\n",
              "      cursor: pointer;\n",
              "      display: none;\n",
              "      fill: #1967D2;\n",
              "      height: 32px;\n",
              "      padding: 0 0 0 0;\n",
              "      width: 32px;\n",
              "    }\n",
              "\n",
              "    .colab-df-convert:hover {\n",
              "      background-color: #E2EBFA;\n",
              "      box-shadow: 0px 1px 2px rgba(60, 64, 67, 0.3), 0px 1px 3px 1px rgba(60, 64, 67, 0.15);\n",
              "      fill: #174EA6;\n",
              "    }\n",
              "\n",
              "    .colab-df-buttons div {\n",
              "      margin-bottom: 4px;\n",
              "    }\n",
              "\n",
              "    [theme=dark] .colab-df-convert {\n",
              "      background-color: #3B4455;\n",
              "      fill: #D2E3FC;\n",
              "    }\n",
              "\n",
              "    [theme=dark] .colab-df-convert:hover {\n",
              "      background-color: #434B5C;\n",
              "      box-shadow: 0px 1px 3px 1px rgba(0, 0, 0, 0.15);\n",
              "      filter: drop-shadow(0px 1px 2px rgba(0, 0, 0, 0.3));\n",
              "      fill: #FFFFFF;\n",
              "    }\n",
              "  </style>\n",
              "\n",
              "    <script>\n",
              "      const buttonEl =\n",
              "        document.querySelector('#df-d288f1bb-0061-47cd-8841-7286980cc16f button.colab-df-convert');\n",
              "      buttonEl.style.display =\n",
              "        google.colab.kernel.accessAllowed ? 'block' : 'none';\n",
              "\n",
              "      async function convertToInteractive(key) {\n",
              "        const element = document.querySelector('#df-d288f1bb-0061-47cd-8841-7286980cc16f');\n",
              "        const dataTable =\n",
              "          await google.colab.kernel.invokeFunction('convertToInteractive',\n",
              "                                                    [key], {});\n",
              "        if (!dataTable) return;\n",
              "\n",
              "        const docLinkHtml = 'Like what you see? Visit the ' +\n",
              "          '<a target=\"_blank\" href=https://colab.research.google.com/notebooks/data_table.ipynb>data table notebook</a>'\n",
              "          + ' to learn more about interactive tables.';\n",
              "        element.innerHTML = '';\n",
              "        dataTable['output_type'] = 'display_data';\n",
              "        await google.colab.output.renderOutput(dataTable, element);\n",
              "        const docLink = document.createElement('div');\n",
              "        docLink.innerHTML = docLinkHtml;\n",
              "        element.appendChild(docLink);\n",
              "      }\n",
              "    </script>\n",
              "  </div>\n",
              "\n",
              "\n",
              "<div id=\"df-9c074a09-713a-467e-91b1-252e3c8117a0\">\n",
              "  <button class=\"colab-df-quickchart\" onclick=\"quickchart('df-9c074a09-713a-467e-91b1-252e3c8117a0')\"\n",
              "            title=\"Suggest charts\"\n",
              "            style=\"display:none;\">\n",
              "\n",
              "<svg xmlns=\"http://www.w3.org/2000/svg\" height=\"24px\"viewBox=\"0 0 24 24\"\n",
              "     width=\"24px\">\n",
              "    <g>\n",
              "        <path d=\"M19 3H5c-1.1 0-2 .9-2 2v14c0 1.1.9 2 2 2h14c1.1 0 2-.9 2-2V5c0-1.1-.9-2-2-2zM9 17H7v-7h2v7zm4 0h-2V7h2v10zm4 0h-2v-4h2v4z\"/>\n",
              "    </g>\n",
              "</svg>\n",
              "  </button>\n",
              "\n",
              "<style>\n",
              "  .colab-df-quickchart {\n",
              "      --bg-color: #E8F0FE;\n",
              "      --fill-color: #1967D2;\n",
              "      --hover-bg-color: #E2EBFA;\n",
              "      --hover-fill-color: #174EA6;\n",
              "      --disabled-fill-color: #AAA;\n",
              "      --disabled-bg-color: #DDD;\n",
              "  }\n",
              "\n",
              "  [theme=dark] .colab-df-quickchart {\n",
              "      --bg-color: #3B4455;\n",
              "      --fill-color: #D2E3FC;\n",
              "      --hover-bg-color: #434B5C;\n",
              "      --hover-fill-color: #FFFFFF;\n",
              "      --disabled-bg-color: #3B4455;\n",
              "      --disabled-fill-color: #666;\n",
              "  }\n",
              "\n",
              "  .colab-df-quickchart {\n",
              "    background-color: var(--bg-color);\n",
              "    border: none;\n",
              "    border-radius: 50%;\n",
              "    cursor: pointer;\n",
              "    display: none;\n",
              "    fill: var(--fill-color);\n",
              "    height: 32px;\n",
              "    padding: 0;\n",
              "    width: 32px;\n",
              "  }\n",
              "\n",
              "  .colab-df-quickchart:hover {\n",
              "    background-color: var(--hover-bg-color);\n",
              "    box-shadow: 0 1px 2px rgba(60, 64, 67, 0.3), 0 1px 3px 1px rgba(60, 64, 67, 0.15);\n",
              "    fill: var(--button-hover-fill-color);\n",
              "  }\n",
              "\n",
              "  .colab-df-quickchart-complete:disabled,\n",
              "  .colab-df-quickchart-complete:disabled:hover {\n",
              "    background-color: var(--disabled-bg-color);\n",
              "    fill: var(--disabled-fill-color);\n",
              "    box-shadow: none;\n",
              "  }\n",
              "\n",
              "  .colab-df-spinner {\n",
              "    border: 2px solid var(--fill-color);\n",
              "    border-color: transparent;\n",
              "    border-bottom-color: var(--fill-color);\n",
              "    animation:\n",
              "      spin 1s steps(1) infinite;\n",
              "  }\n",
              "\n",
              "  @keyframes spin {\n",
              "    0% {\n",
              "      border-color: transparent;\n",
              "      border-bottom-color: var(--fill-color);\n",
              "      border-left-color: var(--fill-color);\n",
              "    }\n",
              "    20% {\n",
              "      border-color: transparent;\n",
              "      border-left-color: var(--fill-color);\n",
              "      border-top-color: var(--fill-color);\n",
              "    }\n",
              "    30% {\n",
              "      border-color: transparent;\n",
              "      border-left-color: var(--fill-color);\n",
              "      border-top-color: var(--fill-color);\n",
              "      border-right-color: var(--fill-color);\n",
              "    }\n",
              "    40% {\n",
              "      border-color: transparent;\n",
              "      border-right-color: var(--fill-color);\n",
              "      border-top-color: var(--fill-color);\n",
              "    }\n",
              "    60% {\n",
              "      border-color: transparent;\n",
              "      border-right-color: var(--fill-color);\n",
              "    }\n",
              "    80% {\n",
              "      border-color: transparent;\n",
              "      border-right-color: var(--fill-color);\n",
              "      border-bottom-color: var(--fill-color);\n",
              "    }\n",
              "    90% {\n",
              "      border-color: transparent;\n",
              "      border-bottom-color: var(--fill-color);\n",
              "    }\n",
              "  }\n",
              "</style>\n",
              "\n",
              "  <script>\n",
              "    async function quickchart(key) {\n",
              "      const quickchartButtonEl =\n",
              "        document.querySelector('#' + key + ' button');\n",
              "      quickchartButtonEl.disabled = true;  // To prevent multiple clicks.\n",
              "      quickchartButtonEl.classList.add('colab-df-spinner');\n",
              "      try {\n",
              "        const charts = await google.colab.kernel.invokeFunction(\n",
              "            'suggestCharts', [key], {});\n",
              "      } catch (error) {\n",
              "        console.error('Error during call to suggestCharts:', error);\n",
              "      }\n",
              "      quickchartButtonEl.classList.remove('colab-df-spinner');\n",
              "      quickchartButtonEl.classList.add('colab-df-quickchart-complete');\n",
              "    }\n",
              "    (() => {\n",
              "      let quickchartButtonEl =\n",
              "        document.querySelector('#df-9c074a09-713a-467e-91b1-252e3c8117a0 button');\n",
              "      quickchartButtonEl.style.display =\n",
              "        google.colab.kernel.accessAllowed ? 'block' : 'none';\n",
              "    })();\n",
              "  </script>\n",
              "</div>\n",
              "\n",
              "    </div>\n",
              "  </div>\n"
            ],
            "application/vnd.google.colaboratory.intrinsic+json": {
              "type": "dataframe",
              "variable_name": "csv_df",
              "summary": "{\n  \"name\": \"csv_df\",\n  \"rows\": 100,\n  \"fields\": [\n    {\n      \"column\": \"X-values\",\n      \"properties\": {\n        \"dtype\": \"number\",\n        \"std\": 29,\n        \"min\": 0,\n        \"max\": 99,\n        \"num_unique_values\": 100,\n        \"samples\": [\n          83,\n          53,\n          70\n        ],\n        \"semantic_type\": \"\",\n        \"description\": \"\"\n      }\n    },\n    {\n      \"column\": \"Y-values\",\n      \"properties\": {\n        \"dtype\": \"number\",\n        \"std\": 16.31645597341027,\n        \"min\": -4.892672030166581,\n        \"max\": 59.04881199027048,\n        \"num_unique_values\": 100,\n        \"samples\": [\n          53.40137236027283,\n          33.02818469611309,\n          44.99377900190872\n        ],\n        \"semantic_type\": \"\",\n        \"description\": \"\"\n      }\n    }\n  ]\n}"
            }
          },
          "metadata": {},
          "execution_count": 23
        }
      ]
    },
    {
      "cell_type": "markdown",
      "source": [
        "We also need to think about how we track each file in the iteration so we'll use a function called split which is used to split strings around a given character."
      ],
      "metadata": {
        "id": "_SzzT7gWDje-"
      }
    },
    {
      "cell_type": "code",
      "source": [
        "print(csv)\n",
        "\n",
        "print(csv.split(\"-\"))\n",
        "\n",
        "print(csv.split(\"-\")[0])\n",
        "\n",
        "print(csv.split(\"-\")[0][-1])"
      ],
      "metadata": {
        "colab": {
          "base_uri": "https://localhost:8080/"
        },
        "id": "kxM5f82ZDk0K",
        "outputId": "7cbd1b94-b371-4fde-82a4-c6e3bf4da3c9"
      },
      "execution_count": null,
      "outputs": [
        {
          "output_type": "stream",
          "name": "stdout",
          "text": [
            "csv_files/1-linear-relationship.csv\n",
            "['csv_files/1', 'linear', 'relationship.csv']\n",
            "csv_files/1\n",
            "1\n"
          ]
        }
      ]
    },
    {
      "cell_type": "markdown",
      "source": [
        "We'll now tie together the concepts we learned to create a function to process each file in our list of files, generating a scatter plot and calculating the linear regression for each file. To keep track of each iteration of our function we'll use split to take the number from each file path."
      ],
      "metadata": {
        "id": "VqUZL8dxAg2S"
      }
    },
    {
      "cell_type": "code",
      "source": [
        "# define a function to perform linear regression for each file\n",
        "def calc_linear_regression(csv):\n",
        "  # to track iteration split the filename\n",
        "  iteration = csv.split(\"-\")[0][-1]\n",
        "\n",
        "  df = pd.read_csv(csv) # read the csv as a pandas dataframe\n",
        "\n",
        "  # calculate regression\n",
        "  regression = stats.linregress(df[\"X-values\"], df[\"Y-values\"])\n",
        "\n",
        "  # Create the regression line\n",
        "  line_of_fit = regression.slope * df[\"X-values\"] + regression.intercept\n",
        "\n",
        "  plt.scatter(df[\"X-values\"], df[\"Y-values\"], label=\"Data points\", color=\"blue\")\n",
        "  plt.plot(x_values, line_of_fit, label=\"Regression line\", color=\"red\")\n",
        "\n",
        "  # Add labels and title\n",
        "  plt.xlabel(\"X values\")\n",
        "  plt.ylabel(\"Y values\")\n",
        "  plt.title(f\"Scatter plot with linear regression fit: Iteration {iteration}\")\n",
        "\n",
        "  # Show the plot\n",
        "  plt.legend()\n",
        "  plt.show()\n",
        "\n",
        "  # print slope and intercept\n",
        "  print(f\"slope: {regression.slope}, intercept: {regression.intercept}\")\n",
        "\n",
        "# iterate over each csv file using for loop to generate scatter plot and calculate linear regression.\n",
        "for file in csv_files:\n",
        "  calc_linear_regression(file)\n"
      ],
      "metadata": {
        "colab": {
          "base_uri": "https://localhost:8080/",
          "height": 1000
        },
        "id": "VrAx-lZCA0UW",
        "outputId": "720034eb-b772-45b6-c9bc-20084f92b165"
      },
      "execution_count": null,
      "outputs": [
        {
          "output_type": "display_data",
          "data": {
            "text/plain": [
              "<Figure size 640x480 with 1 Axes>"
            ],
            "image/png": "[encoded data removed]"
          },
          "metadata": {}
        },
        {
          "output_type": "stream",
          "name": "stdout",
          "text": [
            "slope: 0.5230590376898168, intercept: 1.7654111028200674\n"
          ]
        },
        {
          "output_type": "display_data",
          "data": {
            "text/plain": [
              "<Figure size 640x480 with 1 Axes>"
            ],
            "image/png": "[encoded data removed]"
          },
          "metadata": {}
        },
        {
          "output_type": "stream",
          "name": "stdout",
          "text": [
            "slope: 1.523059037689816, intercept: 5.365411102820119\n"
          ]
        },
        {
          "output_type": "display_data",
          "data": {
            "text/plain": [
              "<Figure size 640x480 with 1 Axes>"
            ],
            "image/png": "[encoded data removed]"
          },
          "metadata": {}
        },
        {
          "output_type": "stream",
          "name": "stdout",
          "text": [
            "slope: 0.2230590376898167, intercept: 5.765411102820076\n"
          ]
        },
        {
          "output_type": "display_data",
          "data": {
            "text/plain": [
              "<Figure size 640x480 with 1 Axes>"
            ],
            "image/png": "[encoded data removed]"
          },
          "metadata": {}
        },
        {
          "output_type": "stream",
          "name": "stdout",
          "text": [
            "slope: 0.6930590376898169, intercept: 33.76541110282006\n"
          ]
        },
        {
          "output_type": "display_data",
          "data": {
            "text/plain": [
              "<Figure size 640x480 with 1 Axes>"
            ],
            "image/png": "[encoded data removed]"
          },
          "metadata": {}
        },
        {
          "output_type": "stream",
          "name": "stdout",
          "text": [
            "slope: 0.2830590376898167, intercept: 10.765411102820071\n"
          ]
        }
      ]
    },
    {
      "cell_type": "markdown",
      "source": [
        "There we go! We've created our own function that takes the file path of the csv file, reads it as a pandas DataFrame, plots the X and Y values in a scatter, and calculates the linear regression of the distribution.\n",
        "\n",
        "The function runs inside the for loop that iterates over the list of csv file paths returned from glob. This should start to indicate the power of Python for data analysis and helping us streamline repeative tasks in our research."
      ],
      "metadata": {
        "id": "VT4xdLpFEvCB"
      }
    },
    {
      "cell_type": "markdown",
      "metadata": {
        "id": "T3TIpDmnhzy4"
      },
      "source": [
        "# Revisiting the Goals"
      ]
    },
    {
      "cell_type": "markdown",
      "metadata": {
        "id": "3U2zmiTVhzy4"
      },
      "source": [
        "Did you?\n",
        "  - ... have fun! 🎉\n",
        "  - ... follow along while live coding in Python 🐍\n",
        "  - ... pick up some core coding concepts while doing that?\n",
        "  - ... make a decision if Python is something you want to learn/use? If so:\n",
        "      - Carp\n",
        "      - ML\n",
        "      - hand-selected links below\n",
        "  \n",
        "  Now that we have this experience in Google Colab, which is one flavour of a Jupyter Notebook\n",
        "  - University of Auckland researchers have access to the [Nectar Research Cloud](https://research-hub.auckland.ac.nz/research-software-and-computing/advanced-compute/nectar-research-cloud) and sevices like [JupyterHub](https://research-hub.auckland.ac.nz/research-software-and-computing/advanced-compute/nectar-jupyterhub), [BinderHub](https://research-hub.auckland.ac.nz/research-software-and-computing/advanced-compute/nectar-binderhub), and [Nectar Virtual Desktop](https://research-hub.auckland.ac.nz/research-software-and-computing/advanced-compute/nectar-virtual-desktop)\n",
        "  - if you automate tasks, make machines talk to other machines, etc. you can write scripts and run them on the command-line\n",
        "  - you can use an Integrated Development Environment (IDE) like [Visual Studio Code](https://code.visualstudio.com/) or [PyCharm](https://www.jetbrains.com/pycharm/)\n",
        "\n",
        "Were your goals met? 🎯\n"
      ]
    },
    {
      "cell_type": "markdown",
      "metadata": {
        "id": "GXE4NClFhzy4"
      },
      "source": [
        "# Resources"
      ]
    },
    {
      "cell_type": "markdown",
      "metadata": {
        "id": "sOXeRHnJhzy4"
      },
      "source": [
        "## Websites for Learning Python:\n",
        "\n",
        "-   [HarvardX: Using Python for Research](https://www.edx.org/learn/python/harvard-university-using-python-for-research)\n",
        "-   [LearnPython.org](https://www.learnpython.org/) This is a free interactive Python tutorial for people who want to learn Python\n",
        "-   [Google\\'s Python Class](https://developers.google.com/edu/python)\n",
        "    Google also has an excellent set of Python tutorials for beginners\n",
        "-   [Codecademy](https://www.codecademy.com/) offers an interactive\n",
        "    Python course\n",
        "-   [30 Days of Python](https://github.com/Asabeneh/30-Days-Of-Python)\n",
        "-   [How to Think Like a Computer Scientist](https://runestone.academy/runestone/books/published/thinkcspy/index.html)\n",
        "\n",
        "## Video for Learning Python\n",
        "\n",
        "-   [freeCodeCamp.org](https://youtu.be/rfscVS0vtbw?si=EiY8F-GupxBrtovb)\n",
        "\n",
        "## Python Blogs:\n",
        "\n",
        "-   [Real Python](http://ttps://realpython.com/) is a comprehensive\n",
        "    Python programming blog with eye-catching infographics, videos, and\n",
        "    an overall fun vibe\n",
        "-   [Planet Python](https://planetpython.org/) is a comprehensive blog\n",
        "    that brings together recent Python-related posts from various other\n",
        "    blogs\n",
        "-   [Finxter](https://blog.finxter.com/) is another Python blog to\n",
        "    follow\n",
        "-   [Full Stack Python](https://www.fullstackpython.com/) is a blog that\n",
        "    provides detailed tutorials on various platforms utilizing Python\n",
        "\n",
        "## Python Games\n",
        "- [CodeCombat](https://codecombat.com/): Learn programming through an interactive game-based platform where players write code to control characters and solve challenges.\n",
        "- [Code on the Cob](https://www.codeonthecob.com/): A webiste to practice coding\n",
        "- [CheckiO](https://checkio.org/): Learn Python coding through solving coding challenges in a gamified environment, with a focus on improving coding skills.\n",
        "- [Advent of Code](https://adventofcode.com/): An annual coding challenge held in December, featuring daily programming puzzles to solve.\n",
        "- [CodinGame](https://www.codingame.com/start/): Learn coding through gamified programming puzzles and challenges, covering various languages and difficulty levels.\n",
        "- [LeetCode](https://leetcode.com/): Practice coding skills through a collection of coding problems, ranging from easy to hard, often used for technical interviews.\n",
        "- [Exercism](https://exercism.org/tracks/python): Learn programming languages through practice problems with mentors, focusing on feedback-driven learning and community support.\n"
      ]
    },
    {
      "cell_type": "markdown",
      "metadata": {
        "id": "5e9QaGI4hzy4"
      },
      "source": []
    }
  ],
  "metadata": {
    "colab": {
      "provenance": [],
      "collapsed_sections": [
        "T3TIpDmnhzy4"
      ],
      "include_colab_link": true
    },
    "kernelspec": {
      "display_name": "Python 3",
      "language": "python",
      "name": "python3"
    },
    "language_info": {
      "codemirror_mode": {
        "name": "ipython",
        "version": 3
      },
      "file_extension": ".py",
      "mimetype": "text/x-python",
      "name": "python",
      "nbconvert_exporter": "python",
      "pygments_lexer": "ipython3",
      "version": "3.11.6"
    }
  },
  "nbformat": 4,
  "nbformat_minor": 0
}